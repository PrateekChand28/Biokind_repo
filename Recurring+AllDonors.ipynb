{
 "cells": [
  {
   "cell_type": "code",
   "execution_count": 29,
   "metadata": {},
   "outputs": [],
   "source": [
    "# Importing the necessary libraries\n",
    "import pandas as pd\n",
    "import numpy as np\n",
    "import matplotlib.pyplot as plt\n",
    "\n",
    "\n",
    "plt.style.use('seaborn-v0_8-paper')\n"
   ]
  },
  {
   "cell_type": "code",
   "execution_count": 30,
   "metadata": {},
   "outputs": [],
   "source": [
    "recurringData = pd.read_csv(\"DonorDataSets/active_recurring donations.csv\", index_col=\"Account ID\") # uses Account ID as index"
   ]
  },
  {
   "cell_type": "code",
   "execution_count": 31,
   "metadata": {},
   "outputs": [
    {
     "name": "stdout",
     "output_type": "stream",
     "text": [
      "Last 10 Data\n"
     ]
    }
   ],
   "source": [
    "recurringData.tail(10)\n",
    "print(\"Last 10 Data\")"
   ]
  },
  {
   "cell_type": "code",
   "execution_count": 32,
   "metadata": {},
   "outputs": [
    {
     "data": {
      "text/plain": [
       "Index(['Recurring Donation ID', 'Recurring Donation Amount',\n",
       "       'Recurring Donation Interval', 'Recurring Donation Unit',\n",
       "       'Recurring Donation End Date', 'Recurring Donation Next Payment Date',\n",
       "       'Recurring Donation Status', 'Total Amount', 'Donation Count',\n",
       "       'Full Name (F)', 'Company Name', 'Unnamed: 12'],\n",
       "      dtype='object')"
      ]
     },
     "execution_count": 32,
     "metadata": {},
     "output_type": "execute_result"
    }
   ],
   "source": [
    "recurringData.columns # returns columns in the Dataset"
   ]
  },
  {
   "cell_type": "code",
   "execution_count": 33,
   "metadata": {},
   "outputs": [
    {
     "data": {
      "text/plain": [
       "['Recurring Donation End Date', 'Company Name', 'Unnamed: 12']"
      ]
     },
     "execution_count": 33,
     "metadata": {},
     "output_type": "execute_result"
    }
   ],
   "source": [
    "recurringData.columns[recurringData.isna().any()].tolist() # Checks which columns have NaN "
   ]
  },
  {
   "cell_type": "code",
   "execution_count": 34,
   "metadata": {},
   "outputs": [],
   "source": [
    "# Drops columns based on relevancy and in order to treat NaN values\n",
    "recurringData.drop(['Recurring Donation End Date', 'Company Name', 'Unnamed: 12'], axis = 1 , inplace=True) "
   ]
  },
  {
   "cell_type": "code",
   "execution_count": 35,
   "metadata": {},
   "outputs": [
    {
     "data": {
      "text/plain": [
       "Index(['Recurring Donation ID', 'Recurring Donation Amount',\n",
       "       'Recurring Donation Interval', 'Recurring Donation Unit',\n",
       "       'Recurring Donation Next Payment Date', 'Recurring Donation Status',\n",
       "       'Total Amount', 'Donation Count', 'Full Name (F)'],\n",
       "      dtype='object')"
      ]
     },
     "execution_count": 35,
     "metadata": {},
     "output_type": "execute_result"
    }
   ],
   "source": [
    "recurringData.columns"
   ]
  },
  {
   "cell_type": "code",
   "execution_count": 36,
   "metadata": {},
   "outputs": [
    {
     "data": {
      "text/plain": [
       "[]"
      ]
     },
     "execution_count": 36,
     "metadata": {},
     "output_type": "execute_result"
    }
   ],
   "source": [
    "recurringData.columns[recurringData.isna().any()].tolist() # Checks which columns have NaN \n"
   ]
  },
  {
   "cell_type": "code",
   "execution_count": 37,
   "metadata": {},
   "outputs": [
    {
     "data": {
      "text/html": [
       "<div>\n",
       "<style scoped>\n",
       "    .dataframe tbody tr th:only-of-type {\n",
       "        vertical-align: middle;\n",
       "    }\n",
       "\n",
       "    .dataframe tbody tr th {\n",
       "        vertical-align: top;\n",
       "    }\n",
       "\n",
       "    .dataframe thead th {\n",
       "        text-align: right;\n",
       "    }\n",
       "</style>\n",
       "<table border=\"1\" class=\"dataframe\">\n",
       "  <thead>\n",
       "    <tr style=\"text-align: right;\">\n",
       "      <th></th>\n",
       "      <th>Recurring Donation ID</th>\n",
       "      <th>Recurring Donation Amount</th>\n",
       "      <th>Recurring Donation Interval</th>\n",
       "      <th>Recurring Donation Unit</th>\n",
       "      <th>Recurring Donation Next Payment Date</th>\n",
       "      <th>Recurring Donation Status</th>\n",
       "      <th>Total Amount</th>\n",
       "      <th>Donation Count</th>\n",
       "      <th>Full Name (F)</th>\n",
       "    </tr>\n",
       "    <tr>\n",
       "      <th>Account ID</th>\n",
       "      <th></th>\n",
       "      <th></th>\n",
       "      <th></th>\n",
       "      <th></th>\n",
       "      <th></th>\n",
       "      <th></th>\n",
       "      <th></th>\n",
       "      <th></th>\n",
       "      <th></th>\n",
       "    </tr>\n",
       "  </thead>\n",
       "  <tbody>\n",
       "    <tr>\n",
       "      <th>1191</th>\n",
       "      <td>48</td>\n",
       "      <td>12.0</td>\n",
       "      <td>1</td>\n",
       "      <td>MONTH</td>\n",
       "      <td>11/13/2024</td>\n",
       "      <td>Active</td>\n",
       "      <td>127.10</td>\n",
       "      <td>10</td>\n",
       "      <td>Donn Gasner</td>\n",
       "    </tr>\n",
       "    <tr>\n",
       "      <th>1175</th>\n",
       "      <td>49</td>\n",
       "      <td>100.0</td>\n",
       "      <td>1</td>\n",
       "      <td>MONTH</td>\n",
       "      <td>11/22/2024</td>\n",
       "      <td>Active</td>\n",
       "      <td>942.21</td>\n",
       "      <td>9</td>\n",
       "      <td>Jenny Badreddine</td>\n",
       "    </tr>\n",
       "    <tr>\n",
       "      <th>2319</th>\n",
       "      <td>51</td>\n",
       "      <td>20.0</td>\n",
       "      <td>1</td>\n",
       "      <td>MONTH</td>\n",
       "      <td>11/22/2024</td>\n",
       "      <td>Active</td>\n",
       "      <td>188.73</td>\n",
       "      <td>9</td>\n",
       "      <td>Karen Ingmundson</td>\n",
       "    </tr>\n",
       "    <tr>\n",
       "      <th>5531</th>\n",
       "      <td>52</td>\n",
       "      <td>25.0</td>\n",
       "      <td>1</td>\n",
       "      <td>MONTH</td>\n",
       "      <td>11/22/2024</td>\n",
       "      <td>Active</td>\n",
       "      <td>225.00</td>\n",
       "      <td>9</td>\n",
       "      <td>SARAH MILLER</td>\n",
       "    </tr>\n",
       "    <tr>\n",
       "      <th>2505</th>\n",
       "      <td>53</td>\n",
       "      <td>100.0</td>\n",
       "      <td>1</td>\n",
       "      <td>MONTH</td>\n",
       "      <td>11/12/2024</td>\n",
       "      <td>Active</td>\n",
       "      <td>207.20</td>\n",
       "      <td>2</td>\n",
       "      <td>Chris &amp; Amy Guthrie</td>\n",
       "    </tr>\n",
       "  </tbody>\n",
       "</table>\n",
       "</div>"
      ],
      "text/plain": [
       "            Recurring Donation ID  Recurring Donation Amount  \\\n",
       "Account ID                                                     \n",
       "1191                           48                       12.0   \n",
       "1175                           49                      100.0   \n",
       "2319                           51                       20.0   \n",
       "5531                           52                       25.0   \n",
       "2505                           53                      100.0   \n",
       "\n",
       "            Recurring Donation Interval Recurring Donation Unit  \\\n",
       "Account ID                                                        \n",
       "1191                                  1                   MONTH   \n",
       "1175                                  1                   MONTH   \n",
       "2319                                  1                   MONTH   \n",
       "5531                                  1                   MONTH   \n",
       "2505                                  1                   MONTH   \n",
       "\n",
       "           Recurring Donation Next Payment Date Recurring Donation Status  \\\n",
       "Account ID                                                                  \n",
       "1191                                 11/13/2024                    Active   \n",
       "1175                                 11/22/2024                    Active   \n",
       "2319                                 11/22/2024                    Active   \n",
       "5531                                 11/22/2024                    Active   \n",
       "2505                                 11/12/2024                    Active   \n",
       "\n",
       "           Total Amount  Donation Count        Full Name (F)  \n",
       "Account ID                                                    \n",
       "1191             127.10              10          Donn Gasner  \n",
       "1175             942.21               9     Jenny Badreddine  \n",
       "2319             188.73               9     Karen Ingmundson  \n",
       "5531             225.00               9         SARAH MILLER  \n",
       "2505             207.20               2  Chris & Amy Guthrie  "
      ]
     },
     "execution_count": 37,
     "metadata": {},
     "output_type": "execute_result"
    }
   ],
   "source": [
    "recurringData.tail(5)"
   ]
  },
  {
   "cell_type": "code",
   "execution_count": 38,
   "metadata": {},
   "outputs": [],
   "source": [
    "recurringData.drop(['Recurring Donation Unit'], axis = 1, inplace= True) # Irrelevant Column, so drops it\n",
    "recurringData.drop('Recurring Donation Status', axis = 1, inplace=True)"
   ]
  },
  {
   "cell_type": "code",
   "execution_count": 39,
   "metadata": {},
   "outputs": [
    {
     "data": {
      "text/html": [
       "<div>\n",
       "<style scoped>\n",
       "    .dataframe tbody tr th:only-of-type {\n",
       "        vertical-align: middle;\n",
       "    }\n",
       "\n",
       "    .dataframe tbody tr th {\n",
       "        vertical-align: top;\n",
       "    }\n",
       "\n",
       "    .dataframe thead th {\n",
       "        text-align: right;\n",
       "    }\n",
       "</style>\n",
       "<table border=\"1\" class=\"dataframe\">\n",
       "  <thead>\n",
       "    <tr style=\"text-align: right;\">\n",
       "      <th></th>\n",
       "      <th>Recurring Donation ID</th>\n",
       "      <th>Recurring Donation Amount</th>\n",
       "      <th>Recurring Donation Interval</th>\n",
       "      <th>Recurring Donation Next Payment Date</th>\n",
       "      <th>Total Amount</th>\n",
       "      <th>Donation Count</th>\n",
       "      <th>Full Name (F)</th>\n",
       "    </tr>\n",
       "    <tr>\n",
       "      <th>Account ID</th>\n",
       "      <th></th>\n",
       "      <th></th>\n",
       "      <th></th>\n",
       "      <th></th>\n",
       "      <th></th>\n",
       "      <th></th>\n",
       "      <th></th>\n",
       "    </tr>\n",
       "  </thead>\n",
       "  <tbody>\n",
       "    <tr>\n",
       "      <th>102</th>\n",
       "      <td>1</td>\n",
       "      <td>12.0</td>\n",
       "      <td>1</td>\n",
       "      <td>11/11/2024</td>\n",
       "      <td>804.00</td>\n",
       "      <td>67</td>\n",
       "      <td>Ashley Locke</td>\n",
       "    </tr>\n",
       "    <tr>\n",
       "      <th>306</th>\n",
       "      <td>7</td>\n",
       "      <td>25.0</td>\n",
       "      <td>1</td>\n",
       "      <td>11/02/2024</td>\n",
       "      <td>1,275.00</td>\n",
       "      <td>51</td>\n",
       "      <td>Paul Schwartz</td>\n",
       "    </tr>\n",
       "    <tr>\n",
       "      <th>316</th>\n",
       "      <td>8</td>\n",
       "      <td>25.0</td>\n",
       "      <td>1</td>\n",
       "      <td>11/10/2024</td>\n",
       "      <td>1,275.00</td>\n",
       "      <td>51</td>\n",
       "      <td>Holly Lyon</td>\n",
       "    </tr>\n",
       "    <tr>\n",
       "      <th>321</th>\n",
       "      <td>9</td>\n",
       "      <td>12.0</td>\n",
       "      <td>1</td>\n",
       "      <td>11/10/2024</td>\n",
       "      <td>682.38</td>\n",
       "      <td>51</td>\n",
       "      <td>Lisa Olmsted</td>\n",
       "    </tr>\n",
       "    <tr>\n",
       "      <th>337</th>\n",
       "      <td>11</td>\n",
       "      <td>12.0</td>\n",
       "      <td>1</td>\n",
       "      <td>11/11/2024</td>\n",
       "      <td>648.21</td>\n",
       "      <td>51</td>\n",
       "      <td>Jonathon Vinje</td>\n",
       "    </tr>\n",
       "    <tr>\n",
       "      <th>367</th>\n",
       "      <td>12</td>\n",
       "      <td>25.0</td>\n",
       "      <td>1</td>\n",
       "      <td>11/21/2024</td>\n",
       "      <td>1,306.50</td>\n",
       "      <td>50</td>\n",
       "      <td>Leah Roe</td>\n",
       "    </tr>\n",
       "    <tr>\n",
       "      <th>372</th>\n",
       "      <td>13</td>\n",
       "      <td>25.0</td>\n",
       "      <td>1</td>\n",
       "      <td>11/21/2024</td>\n",
       "      <td>1,306.50</td>\n",
       "      <td>50</td>\n",
       "      <td>Nicole Kavanaugh</td>\n",
       "    </tr>\n",
       "    <tr>\n",
       "      <th>1194</th>\n",
       "      <td>17</td>\n",
       "      <td>25.0</td>\n",
       "      <td>1</td>\n",
       "      <td>10/25/2024</td>\n",
       "      <td>1,151.04</td>\n",
       "      <td>44</td>\n",
       "      <td>Ruth Hann</td>\n",
       "    </tr>\n",
       "    <tr>\n",
       "      <th>1256</th>\n",
       "      <td>18</td>\n",
       "      <td>25.0</td>\n",
       "      <td>3</td>\n",
       "      <td>11/25/2024</td>\n",
       "      <td>391.95</td>\n",
       "      <td>15</td>\n",
       "      <td>Jerry Sander</td>\n",
       "    </tr>\n",
       "    <tr>\n",
       "      <th>1934</th>\n",
       "      <td>21</td>\n",
       "      <td>25.0</td>\n",
       "      <td>1</td>\n",
       "      <td>10/25/2024</td>\n",
       "      <td>1,149.72</td>\n",
       "      <td>44</td>\n",
       "      <td>Cynthia Terrill</td>\n",
       "    </tr>\n",
       "  </tbody>\n",
       "</table>\n",
       "</div>"
      ],
      "text/plain": [
       "            Recurring Donation ID  Recurring Donation Amount  \\\n",
       "Account ID                                                     \n",
       "102                             1                       12.0   \n",
       "306                             7                       25.0   \n",
       "316                             8                       25.0   \n",
       "321                             9                       12.0   \n",
       "337                            11                       12.0   \n",
       "367                            12                       25.0   \n",
       "372                            13                       25.0   \n",
       "1194                           17                       25.0   \n",
       "1256                           18                       25.0   \n",
       "1934                           21                       25.0   \n",
       "\n",
       "            Recurring Donation Interval Recurring Donation Next Payment Date  \\\n",
       "Account ID                                                                     \n",
       "102                                   1                           11/11/2024   \n",
       "306                                   1                           11/02/2024   \n",
       "316                                   1                           11/10/2024   \n",
       "321                                   1                           11/10/2024   \n",
       "337                                   1                           11/11/2024   \n",
       "367                                   1                           11/21/2024   \n",
       "372                                   1                           11/21/2024   \n",
       "1194                                  1                           10/25/2024   \n",
       "1256                                  3                           11/25/2024   \n",
       "1934                                  1                           10/25/2024   \n",
       "\n",
       "           Total Amount  Donation Count     Full Name (F)  \n",
       "Account ID                                                 \n",
       "102              804.00              67      Ashley Locke  \n",
       "306            1,275.00              51     Paul Schwartz  \n",
       "316            1,275.00              51        Holly Lyon  \n",
       "321              682.38              51      Lisa Olmsted  \n",
       "337              648.21              51    Jonathon Vinje  \n",
       "367            1,306.50              50          Leah Roe  \n",
       "372            1,306.50              50  Nicole Kavanaugh  \n",
       "1194           1,151.04              44         Ruth Hann  \n",
       "1256             391.95              15      Jerry Sander  \n",
       "1934           1,149.72              44   Cynthia Terrill  "
      ]
     },
     "execution_count": 39,
     "metadata": {},
     "output_type": "execute_result"
    }
   ],
   "source": [
    "recurringData.head(10)"
   ]
  },
  {
   "cell_type": "code",
   "execution_count": 40,
   "metadata": {},
   "outputs": [
    {
     "data": {
      "text/plain": [
       "Index(['Recurring Donation ID', 'Recurring Donation Amount',\n",
       "       'Recurring Donation Interval', 'Recurring Donation Next Payment Date',\n",
       "       'Total Amount', 'Donation Count', 'Full Name (F)'],\n",
       "      dtype='object')"
      ]
     },
     "execution_count": 40,
     "metadata": {},
     "output_type": "execute_result"
    }
   ],
   "source": [
    "recurringData.columns"
   ]
  },
  {
   "cell_type": "code",
   "execution_count": 41,
   "metadata": {},
   "outputs": [
    {
     "data": {
      "text/plain": [
       "Account ID\n",
       "102     11/11/2024\n",
       "306     11/02/2024\n",
       "316     11/10/2024\n",
       "321     11/10/2024\n",
       "337     11/11/2024\n",
       "367     11/21/2024\n",
       "372     11/21/2024\n",
       "1194    10/25/2024\n",
       "1256    11/25/2024\n",
       "1934    10/25/2024\n",
       "2296    10/25/2024\n",
       "2486    10/27/2024\n",
       "2507    11/21/2024\n",
       "2505    11/12/2024\n",
       "225     11/07/2024\n",
       "2613    11/12/2024\n",
       "2632    11/10/2024\n",
       "2731    11/17/2024\n",
       "2849    11/20/2024\n",
       "3415    10/24/2024\n",
       "375     10/24/2024\n",
       "3373    10/28/2024\n",
       "2186    10/23/2024\n",
       "642     11/14/2024\n",
       "3520    10/23/2024\n",
       "78      10/23/2024\n",
       "2670    11/04/2024\n",
       "5853    11/19/2024\n",
       "5863    11/14/2024\n",
       "478     10/24/2024\n",
       "1191    11/13/2024\n",
       "1175    11/22/2024\n",
       "2319    11/22/2024\n",
       "5531    11/22/2024\n",
       "2505    11/12/2024\n",
       "Name: Recurring Donation Next Payment Date, dtype: object"
      ]
     },
     "execution_count": 41,
     "metadata": {},
     "output_type": "execute_result"
    }
   ],
   "source": [
    "recurringData['Recurring Donation Next Payment Date'] # Prints the column"
   ]
  },
  {
   "cell_type": "code",
   "execution_count": 42,
   "metadata": {},
   "outputs": [
    {
     "data": {
      "text/plain": [
       "Full Name (F)\n",
       "Chris & Amy Guthrie       2\n",
       "Ashley Locke              1\n",
       "Paul Schwartz             1\n",
       "Holly Lyon                1\n",
       "Jonathon Vinje            1\n",
       "Lisa Olmsted              1\n",
       "Nicole Kavanaugh          1\n",
       "Ruth Hann                 1\n",
       "Jerry Sander              1\n",
       "Leah Roe                  1\n",
       "Cynthia Terrill           1\n",
       "Dennis & Denise Babish    1\n",
       "Joyce Felstehausen        1\n",
       "Elizabeth Ireland         1\n",
       "Amanda Stein              1\n",
       "Amanda Weppler Ansel      1\n",
       "William Janson            1\n",
       "Susan Junk                1\n",
       "Susan Lutter              1\n",
       "Judith Taritas            1\n",
       "Katharine Rossing         1\n",
       "Leah Schrader             1\n",
       "Susan Felstehausen        1\n",
       "Lori Hessefort            1\n",
       "Jill L Fisher             1\n",
       "Donna Sollenberger        1\n",
       "William Holloway          1\n",
       "Barbara Ingham            1\n",
       "Caleb Cox                 1\n",
       "Paul Carstens             1\n",
       "Donn Gasner               1\n",
       "Jenny Badreddine          1\n",
       "Karen Ingmundson          1\n",
       "SARAH MILLER              1\n",
       "Name: count, dtype: int64"
      ]
     },
     "execution_count": 42,
     "metadata": {},
     "output_type": "execute_result"
    }
   ],
   "source": [
    "recurringData['Full Name (F)'].value_counts(dropna=False) # Checks occurrence of same Donor"
   ]
  },
  {
   "cell_type": "code",
   "execution_count": 43,
   "metadata": {},
   "outputs": [
    {
     "data": {
      "text/plain": [
       "Index([2505, 2505], dtype='int64', name='Account ID')"
      ]
     },
     "execution_count": 43,
     "metadata": {},
     "output_type": "execute_result"
    }
   ],
   "source": [
    "recurringData[recurringData['Full Name (F)'] == 'Chris & Amy Guthrie'].index # Checks Account ID for the given donor"
   ]
  },
  {
   "cell_type": "code",
   "execution_count": 44,
   "metadata": {},
   "outputs": [
    {
     "data": {
      "text/html": [
       "<div>\n",
       "<style scoped>\n",
       "    .dataframe tbody tr th:only-of-type {\n",
       "        vertical-align: middle;\n",
       "    }\n",
       "\n",
       "    .dataframe tbody tr th {\n",
       "        vertical-align: top;\n",
       "    }\n",
       "\n",
       "    .dataframe thead th {\n",
       "        text-align: right;\n",
       "    }\n",
       "</style>\n",
       "<table border=\"1\" class=\"dataframe\">\n",
       "  <thead>\n",
       "    <tr style=\"text-align: right;\">\n",
       "      <th></th>\n",
       "      <th>Recurring Donation ID</th>\n",
       "      <th>Recurring Donation Amount</th>\n",
       "      <th>Recurring Donation Interval</th>\n",
       "      <th>Recurring Donation Next Payment Date</th>\n",
       "      <th>Total Amount</th>\n",
       "      <th>Donation Count</th>\n",
       "      <th>Full Name (F)</th>\n",
       "    </tr>\n",
       "    <tr>\n",
       "      <th>Account ID</th>\n",
       "      <th></th>\n",
       "      <th></th>\n",
       "      <th></th>\n",
       "      <th></th>\n",
       "      <th></th>\n",
       "      <th></th>\n",
       "      <th></th>\n",
       "    </tr>\n",
       "  </thead>\n",
       "  <tbody>\n",
       "    <tr>\n",
       "      <th>78</th>\n",
       "      <td>43</td>\n",
       "      <td>200.0</td>\n",
       "      <td>1</td>\n",
       "      <td>10/23/2024</td>\n",
       "      <td>4,000.00</td>\n",
       "      <td>20</td>\n",
       "      <td>Donna Sollenberger</td>\n",
       "    </tr>\n",
       "    <tr>\n",
       "      <th>2632</th>\n",
       "      <td>30</td>\n",
       "      <td>100.0</td>\n",
       "      <td>1</td>\n",
       "      <td>11/10/2024</td>\n",
       "      <td>3,522.40</td>\n",
       "      <td>34</td>\n",
       "      <td>William Janson</td>\n",
       "    </tr>\n",
       "    <tr>\n",
       "      <th>2505</th>\n",
       "      <td>53</td>\n",
       "      <td>100.0</td>\n",
       "      <td>1</td>\n",
       "      <td>11/12/2024</td>\n",
       "      <td>207.20</td>\n",
       "      <td>2</td>\n",
       "      <td>Chris &amp; Amy Guthrie</td>\n",
       "    </tr>\n",
       "    <tr>\n",
       "      <th>5853</th>\n",
       "      <td>45</td>\n",
       "      <td>100.0</td>\n",
       "      <td>1</td>\n",
       "      <td>11/19/2024</td>\n",
       "      <td>1,431.78</td>\n",
       "      <td>14</td>\n",
       "      <td>Barbara Ingham</td>\n",
       "    </tr>\n",
       "    <tr>\n",
       "      <th>1175</th>\n",
       "      <td>49</td>\n",
       "      <td>100.0</td>\n",
       "      <td>1</td>\n",
       "      <td>11/22/2024</td>\n",
       "      <td>942.21</td>\n",
       "      <td>9</td>\n",
       "      <td>Jenny Badreddine</td>\n",
       "    </tr>\n",
       "    <tr>\n",
       "      <th>2505</th>\n",
       "      <td>27</td>\n",
       "      <td>100.0</td>\n",
       "      <td>1</td>\n",
       "      <td>11/12/2024</td>\n",
       "      <td>3,729.60</td>\n",
       "      <td>36</td>\n",
       "      <td>Chris &amp; Amy Guthrie</td>\n",
       "    </tr>\n",
       "    <tr>\n",
       "      <th>2849</th>\n",
       "      <td>34</td>\n",
       "      <td>75.0</td>\n",
       "      <td>3</td>\n",
       "      <td>11/20/2024</td>\n",
       "      <td>856.46</td>\n",
       "      <td>11</td>\n",
       "      <td>Susan Lutter</td>\n",
       "    </tr>\n",
       "    <tr>\n",
       "      <th>2507</th>\n",
       "      <td>26</td>\n",
       "      <td>50.0</td>\n",
       "      <td>1</td>\n",
       "      <td>11/21/2024</td>\n",
       "      <td>2,310.00</td>\n",
       "      <td>44</td>\n",
       "      <td>Elizabeth Ireland</td>\n",
       "    </tr>\n",
       "    <tr>\n",
       "      <th>2613</th>\n",
       "      <td>29</td>\n",
       "      <td>50.0</td>\n",
       "      <td>1</td>\n",
       "      <td>11/12/2024</td>\n",
       "      <td>1,820.35</td>\n",
       "      <td>35</td>\n",
       "      <td>Amanda Weppler Ansel</td>\n",
       "    </tr>\n",
       "    <tr>\n",
       "      <th>5863</th>\n",
       "      <td>46</td>\n",
       "      <td>50.0</td>\n",
       "      <td>1</td>\n",
       "      <td>11/14/2024</td>\n",
       "      <td>676.13</td>\n",
       "      <td>13</td>\n",
       "      <td>Caleb Cox</td>\n",
       "    </tr>\n",
       "  </tbody>\n",
       "</table>\n",
       "</div>"
      ],
      "text/plain": [
       "            Recurring Donation ID  Recurring Donation Amount  \\\n",
       "Account ID                                                     \n",
       "78                             43                      200.0   \n",
       "2632                           30                      100.0   \n",
       "2505                           53                      100.0   \n",
       "5853                           45                      100.0   \n",
       "1175                           49                      100.0   \n",
       "2505                           27                      100.0   \n",
       "2849                           34                       75.0   \n",
       "2507                           26                       50.0   \n",
       "2613                           29                       50.0   \n",
       "5863                           46                       50.0   \n",
       "\n",
       "            Recurring Donation Interval Recurring Donation Next Payment Date  \\\n",
       "Account ID                                                                     \n",
       "78                                    1                           10/23/2024   \n",
       "2632                                  1                           11/10/2024   \n",
       "2505                                  1                           11/12/2024   \n",
       "5853                                  1                           11/19/2024   \n",
       "1175                                  1                           11/22/2024   \n",
       "2505                                  1                           11/12/2024   \n",
       "2849                                  3                           11/20/2024   \n",
       "2507                                  1                           11/21/2024   \n",
       "2613                                  1                           11/12/2024   \n",
       "5863                                  1                           11/14/2024   \n",
       "\n",
       "           Total Amount  Donation Count         Full Name (F)  \n",
       "Account ID                                                     \n",
       "78             4,000.00              20    Donna Sollenberger  \n",
       "2632           3,522.40              34        William Janson  \n",
       "2505             207.20               2   Chris & Amy Guthrie  \n",
       "5853           1,431.78              14        Barbara Ingham  \n",
       "1175             942.21               9      Jenny Badreddine  \n",
       "2505           3,729.60              36   Chris & Amy Guthrie  \n",
       "2849             856.46              11          Susan Lutter  \n",
       "2507           2,310.00              44     Elizabeth Ireland  \n",
       "2613           1,820.35              35  Amanda Weppler Ansel  \n",
       "5863             676.13              13             Caleb Cox  "
      ]
     },
     "execution_count": 44,
     "metadata": {},
     "output_type": "execute_result"
    }
   ],
   "source": [
    "recurringData.sort_values('Recurring Donation Amount', inplace=True, ascending=False) \n",
    "recurringData.head(10)"
   ]
  },
  {
   "cell_type": "code",
   "execution_count": 45,
   "metadata": {},
   "outputs": [
    {
     "name": "stdout",
     "output_type": "stream",
     "text": [
      "count     35.000000\n",
      "mean      42.257143\n",
      "std       40.049486\n",
      "min       12.000000\n",
      "25%       25.000000\n",
      "50%       25.000000\n",
      "75%       50.000000\n",
      "max      200.000000\n",
      "Name: Recurring Donation Amount, dtype: float64\n"
     ]
    }
   ],
   "source": [
    "print(recurringData['Recurring Donation Amount'].describe()) # Prints general Stats for the given column"
   ]
  },
  {
   "cell_type": "markdown",
   "metadata": {},
   "source": [
    "Recurring Donation Amount Rundown:\n",
    "\n",
    "count     35.000000\n",
    "mean      42.257143\n",
    "std       40.049486\n",
    "min       12.000000\n",
    "25%       25.000000\n",
    "50%       25.000000\n",
    "75%       50.000000\n",
    "max      200.000000"
   ]
  },
  {
   "cell_type": "code",
   "execution_count": 46,
   "metadata": {},
   "outputs": [
    {
     "data": {
      "text/plain": [
       "count           35\n",
       "unique          32\n",
       "top       2,310.00\n",
       "freq             2\n",
       "Name: Total Amount, dtype: object"
      ]
     },
     "execution_count": 46,
     "metadata": {},
     "output_type": "execute_result"
    }
   ],
   "source": [
    "recurringData['Total Amount'].describe()"
   ]
  },
  {
   "cell_type": "code",
   "execution_count": 47,
   "metadata": {},
   "outputs": [
    {
     "data": {
      "text/plain": [
       "Recurring Donation ID                     int64\n",
       "Recurring Donation Amount               float64\n",
       "Recurring Donation Interval               int64\n",
       "Recurring Donation Next Payment Date     object\n",
       "Total Amount                             object\n",
       "Donation Count                            int64\n",
       "Full Name (F)                            object\n",
       "dtype: object"
      ]
     },
     "execution_count": 47,
     "metadata": {},
     "output_type": "execute_result"
    }
   ],
   "source": [
    "recurringData.dtypes"
   ]
  },
  {
   "cell_type": "code",
   "execution_count": 48,
   "metadata": {},
   "outputs": [],
   "source": [
    "recurringData['Total Amount'] = recurringData['Total Amount'].replace('[\\$,]', '', regex=True).astype(float) # Converts Object into float"
   ]
  },
  {
   "cell_type": "code",
   "execution_count": 49,
   "metadata": {},
   "outputs": [
    {
     "data": {
      "text/plain": [
       "count      35.000000\n",
       "mean     1119.330571\n",
       "std       982.582354\n",
       "min       127.100000\n",
       "25%       464.960000\n",
       "50%       856.460000\n",
       "75%      1290.750000\n",
       "max      4000.000000\n",
       "Name: Total Amount, dtype: float64"
      ]
     },
     "execution_count": 49,
     "metadata": {},
     "output_type": "execute_result"
    }
   ],
   "source": [
    "recurringData['Total Amount'].describe()"
   ]
  },
  {
   "cell_type": "markdown",
   "metadata": {},
   "source": [
    "Total Donation Amount Rundown:\n",
    "\n",
    "count      35.000000\n",
    "mean     1119.330571\n",
    "std       982.582354\n",
    "min       127.100000\n",
    "25%       464.960000\n",
    "50%       856.460000\n",
    "75%      1290.750000\n",
    "max      4000.000000\n"
   ]
  },
  {
   "cell_type": "code",
   "execution_count": 50,
   "metadata": {},
   "outputs": [
    {
     "data": {
      "image/png": "[encoded data removed]",
      "text/plain": [
       "<Figure size 1200x600 with 1 Axes>"
      ]
     },
     "metadata": {},
     "output_type": "display_data"
    }
   ],
   "source": [
    "donation_counts = (recurringData.groupby(recurringData.index)['Donation Count'].sum()).sort_values()\n",
    "\n",
    "plt.figure(figsize=(12, 6))\n",
    "donation_counts.plot(kind='bar', color='skyblue', edgecolor='black')\n",
    "plt.title('Number of Donations by Donor (Account ID)')\n",
    "plt.xlabel('Account ID')\n",
    "plt.ylabel('Number of Donations')\n",
    "plt.xticks(rotation=45, ha='right')  # Rotate x-axis labels for better readability\n",
    "plt.tight_layout()  # Adjust layout to prevent clipping of labels\n",
    "plt.grid(axis='y', linestyle='--')  # Optional: add a grid for better readability\n",
    "plt.show()\n"
   ]
  },
  {
   "cell_type": "code",
   "execution_count": 51,
   "metadata": {},
   "outputs": [
    {
     "data": {
      "image/png": "[encoded data removed]",
      "text/plain": [
       "<Figure size 1200x600 with 1 Axes>"
      ]
     },
     "metadata": {},
     "output_type": "display_data"
    }
   ],
   "source": [
    "total_amount = (recurringData.groupby(recurringData.index)['Total Amount'].sum()).sort_values()\n",
    "\n",
    "plt.figure(figsize=(12, 6))\n",
    "total_amount.plot(kind='bar', color='skyblue', edgecolor='black')\n",
    "plt.title('Number of Donations by Donor (Account ID)')\n",
    "plt.xlabel('Account ID')\n",
    "plt.ylabel('Total Amount')\n",
    "plt.xticks(rotation=45, ha='right')  # Rotate x-axis labels for better readability\n",
    "plt.tight_layout()  # Adjust layout to prevent clipping of labels\n",
    "plt.grid(axis='y', linestyle='--')  # Optional: add a grid for better readability\n",
    "plt.show()"
   ]
  },
  {
   "cell_type": "code",
   "execution_count": null,
   "metadata": {},
   "outputs": [],
   "source": [
    "recurringData.to_csv('CleanedDonorsDataSets/recurringDataCleaned.csv', index=True) \n"
   ]
  },
  {
   "cell_type": "code",
   "execution_count": 53,
   "metadata": {},
   "outputs": [],
   "source": [
    "allDonors = pd.read_csv('DonorDataSets/all_donors.csv', index_col='Account ID')"
   ]
  },
  {
   "cell_type": "code",
   "execution_count": 54,
   "metadata": {},
   "outputs": [
    {
     "data": {
      "text/html": [
       "<div>\n",
       "<style scoped>\n",
       "    .dataframe tbody tr th:only-of-type {\n",
       "        vertical-align: middle;\n",
       "    }\n",
       "\n",
       "    .dataframe tbody tr th {\n",
       "        vertical-align: top;\n",
       "    }\n",
       "\n",
       "    .dataframe thead th {\n",
       "        text-align: right;\n",
       "    }\n",
       "</style>\n",
       "<table border=\"1\" class=\"dataframe\">\n",
       "  <thead>\n",
       "    <tr style=\"text-align: right;\">\n",
       "      <th></th>\n",
       "      <th>Account Type</th>\n",
       "      <th>Salutation</th>\n",
       "      <th>Full Name (F)</th>\n",
       "      <th>Company Name</th>\n",
       "      <th>Address Line 1</th>\n",
       "      <th>City</th>\n",
       "      <th>State/Province</th>\n",
       "      <th>Zip Code</th>\n",
       "      <th>Largest Donation Amount</th>\n",
       "      <th>Unnamed: 10</th>\n",
       "    </tr>\n",
       "    <tr>\n",
       "      <th>Account ID</th>\n",
       "      <th></th>\n",
       "      <th></th>\n",
       "      <th></th>\n",
       "      <th></th>\n",
       "      <th></th>\n",
       "      <th></th>\n",
       "      <th></th>\n",
       "      <th></th>\n",
       "      <th></th>\n",
       "      <th></th>\n",
       "    </tr>\n",
       "  </thead>\n",
       "  <tbody>\n",
       "    <tr>\n",
       "      <th>7458</th>\n",
       "      <td>Company</td>\n",
       "      <td>NaN</td>\n",
       "      <td>NaN</td>\n",
       "      <td>JLA Architects</td>\n",
       "      <td>800 West Broadway</td>\n",
       "      <td>Monona</td>\n",
       "      <td>WI</td>\n",
       "      <td>53713</td>\n",
       "      <td>10,000.00</td>\n",
       "      <td>NaN</td>\n",
       "    </tr>\n",
       "    <tr>\n",
       "      <th>98</th>\n",
       "      <td>Company</td>\n",
       "      <td>NaN</td>\n",
       "      <td>NaN</td>\n",
       "      <td>Toot + Kate's Winebar</td>\n",
       "      <td>NaN</td>\n",
       "      <td>NaN</td>\n",
       "      <td>NaN</td>\n",
       "      <td>NaN</td>\n",
       "      <td>200.00</td>\n",
       "      <td>NaN</td>\n",
       "    </tr>\n",
       "    <tr>\n",
       "      <th>7610</th>\n",
       "      <td>Company</td>\n",
       "      <td>NaN</td>\n",
       "      <td>NaN</td>\n",
       "      <td>American Transmission Company</td>\n",
       "      <td>W234 N2000 Ridgeview Pkwy Ct.</td>\n",
       "      <td>Waukesha</td>\n",
       "      <td>WI</td>\n",
       "      <td>53187</td>\n",
       "      <td>50.00</td>\n",
       "      <td>NaN</td>\n",
       "    </tr>\n",
       "    <tr>\n",
       "      <th>7463</th>\n",
       "      <td>Company</td>\n",
       "      <td>NaN</td>\n",
       "      <td>NaN</td>\n",
       "      <td>Dental Health Associates of Madison LTD.</td>\n",
       "      <td>2971 Chapel Valley Rd.</td>\n",
       "      <td>Madison</td>\n",
       "      <td>WI</td>\n",
       "      <td>53711</td>\n",
       "      <td>2,500.00</td>\n",
       "      <td>NaN</td>\n",
       "    </tr>\n",
       "    <tr>\n",
       "      <th>267</th>\n",
       "      <td>Company</td>\n",
       "      <td>NaN</td>\n",
       "      <td>NaN</td>\n",
       "      <td>American Family Insurance Dreams Foundation</td>\n",
       "      <td>NaN</td>\n",
       "      <td>NaN</td>\n",
       "      <td>NaN</td>\n",
       "      <td>NaN</td>\n",
       "      <td>150.00</td>\n",
       "      <td>NaN</td>\n",
       "    </tr>\n",
       "    <tr>\n",
       "      <th>119</th>\n",
       "      <td>Company</td>\n",
       "      <td>NaN</td>\n",
       "      <td>NaN</td>\n",
       "      <td>Kendra Scott</td>\n",
       "      <td>NaN</td>\n",
       "      <td>NaN</td>\n",
       "      <td>NaN</td>\n",
       "      <td>NaN</td>\n",
       "      <td>22.00</td>\n",
       "      <td>NaN</td>\n",
       "    </tr>\n",
       "    <tr>\n",
       "      <th>175</th>\n",
       "      <td>Company</td>\n",
       "      <td>NaN</td>\n",
       "      <td>NaN</td>\n",
       "      <td>C.H. Robinson</td>\n",
       "      <td>4009 Felland Rd</td>\n",
       "      <td>Madison</td>\n",
       "      <td>WI</td>\n",
       "      <td>53718</td>\n",
       "      <td>250.00</td>\n",
       "      <td>NaN</td>\n",
       "    </tr>\n",
       "    <tr>\n",
       "      <th>266</th>\n",
       "      <td>Company</td>\n",
       "      <td>NaN</td>\n",
       "      <td>NaN</td>\n",
       "      <td>TASC Employee Philanthropy Committee</td>\n",
       "      <td>2302 International Ln</td>\n",
       "      <td>Madison</td>\n",
       "      <td>WI</td>\n",
       "      <td>53794</td>\n",
       "      <td>3,500.00</td>\n",
       "      <td>NaN</td>\n",
       "    </tr>\n",
       "    <tr>\n",
       "      <th>2578</th>\n",
       "      <td>Company</td>\n",
       "      <td>NaN</td>\n",
       "      <td>NaN</td>\n",
       "      <td>YourCause</td>\n",
       "      <td>65 Fairchild St.</td>\n",
       "      <td>Charleston</td>\n",
       "      <td>SC</td>\n",
       "      <td>29492</td>\n",
       "      <td>120.00</td>\n",
       "      <td>NaN</td>\n",
       "    </tr>\n",
       "    <tr>\n",
       "      <th>1726</th>\n",
       "      <td>Company</td>\n",
       "      <td>NaN</td>\n",
       "      <td>NaN</td>\n",
       "      <td>Summit Credit Union</td>\n",
       "      <td>NaN</td>\n",
       "      <td>NaN</td>\n",
       "      <td>NaN</td>\n",
       "      <td>NaN</td>\n",
       "      <td>500.00</td>\n",
       "      <td>NaN</td>\n",
       "    </tr>\n",
       "  </tbody>\n",
       "</table>\n",
       "</div>"
      ],
      "text/plain": [
       "           Account Type Salutation Full Name (F)  \\\n",
       "Account ID                                         \n",
       "7458            Company        NaN           NaN   \n",
       "98              Company        NaN           NaN   \n",
       "7610            Company        NaN           NaN   \n",
       "7463            Company        NaN           NaN   \n",
       "267             Company        NaN           NaN   \n",
       "119             Company        NaN           NaN   \n",
       "175             Company        NaN           NaN   \n",
       "266             Company        NaN           NaN   \n",
       "2578            Company        NaN           NaN   \n",
       "1726            Company        NaN           NaN   \n",
       "\n",
       "                                           Company Name  \\\n",
       "Account ID                                                \n",
       "7458                                     JLA Architects   \n",
       "98                                Toot + Kate's Winebar   \n",
       "7610                      American Transmission Company   \n",
       "7463           Dental Health Associates of Madison LTD.   \n",
       "267         American Family Insurance Dreams Foundation   \n",
       "119                                        Kendra Scott   \n",
       "175                                       C.H. Robinson   \n",
       "266                TASC Employee Philanthropy Committee   \n",
       "2578                                          YourCause   \n",
       "1726                                Summit Credit Union   \n",
       "\n",
       "                           Address Line 1        City State/Province Zip Code  \\\n",
       "Account ID                                                                      \n",
       "7458                    800 West Broadway      Monona             WI    53713   \n",
       "98                                    NaN         NaN            NaN      NaN   \n",
       "7610        W234 N2000 Ridgeview Pkwy Ct.    Waukesha             WI    53187   \n",
       "7463               2971 Chapel Valley Rd.     Madison             WI    53711   \n",
       "267                                   NaN         NaN            NaN      NaN   \n",
       "119                                   NaN         NaN            NaN      NaN   \n",
       "175                       4009 Felland Rd     Madison             WI    53718   \n",
       "266                 2302 International Ln     Madison             WI    53794   \n",
       "2578                     65 Fairchild St.  Charleston             SC    29492   \n",
       "1726                                  NaN         NaN            NaN      NaN   \n",
       "\n",
       "           Largest Donation Amount  Unnamed: 10  \n",
       "Account ID                                       \n",
       "7458                     10,000.00          NaN  \n",
       "98                          200.00          NaN  \n",
       "7610                         50.00          NaN  \n",
       "7463                      2,500.00          NaN  \n",
       "267                         150.00          NaN  \n",
       "119                          22.00          NaN  \n",
       "175                         250.00          NaN  \n",
       "266                       3,500.00          NaN  \n",
       "2578                        120.00          NaN  \n",
       "1726                        500.00          NaN  "
      ]
     },
     "execution_count": 54,
     "metadata": {},
     "output_type": "execute_result"
    }
   ],
   "source": [
    "allDonors.head(10)"
   ]
  },
  {
   "cell_type": "code",
   "execution_count": 55,
   "metadata": {},
   "outputs": [
    {
     "data": {
      "text/plain": [
       "Index(['Account Type', 'Salutation', 'Full Name (F)', 'Company Name',\n",
       "       'Address Line 1', 'City', 'State/Province', 'Zip Code',\n",
       "       'Largest Donation Amount', 'Unnamed: 10'],\n",
       "      dtype='object')"
      ]
     },
     "execution_count": 55,
     "metadata": {},
     "output_type": "execute_result"
    }
   ],
   "source": [
    "allDonors.columns"
   ]
  },
  {
   "cell_type": "code",
   "execution_count": 56,
   "metadata": {},
   "outputs": [],
   "source": [
    "allDonors.drop(columns=['Salutation', 'Address Line 1', 'Unnamed: 10'], inplace=True)"
   ]
  },
  {
   "cell_type": "code",
   "execution_count": 57,
   "metadata": {},
   "outputs": [
    {
     "data": {
      "text/plain": [
       "Index(['Account Type', 'Full Name (F)', 'Company Name', 'City',\n",
       "       'State/Province', 'Zip Code', 'Largest Donation Amount'],\n",
       "      dtype='object')"
      ]
     },
     "execution_count": 57,
     "metadata": {},
     "output_type": "execute_result"
    }
   ],
   "source": [
    "allDonors.columns"
   ]
  },
  {
   "cell_type": "code",
   "execution_count": 58,
   "metadata": {},
   "outputs": [
    {
     "data": {
      "text/plain": [
       "['Full Name (F)', 'Company Name', 'City', 'State/Province', 'Zip Code']"
      ]
     },
     "execution_count": 58,
     "metadata": {},
     "output_type": "execute_result"
    }
   ],
   "source": [
    "allDonors.columns[allDonors.isna().any()].to_list()"
   ]
  },
  {
   "cell_type": "code",
   "execution_count": 59,
   "metadata": {},
   "outputs": [
    {
     "data": {
      "text/plain": [
       "Full Name (F)\n",
       "NaN                    28\n",
       "Megan Sollenberger      9\n",
       "Anonymous Anonymous     7\n",
       "Matt Kinney             3\n",
       "Mary Doran              3\n",
       "                       ..\n",
       "Alicia Zweifel          1\n",
       "Kathie Zwettler         1\n",
       "Marjorie Zwickel        1\n",
       "Mark Zwolski            1\n",
       "Rich Zellmer            1\n",
       "Name: count, Length: 4781, dtype: int64"
      ]
     },
     "execution_count": 59,
     "metadata": {},
     "output_type": "execute_result"
    }
   ],
   "source": [
    "allDonors['Full Name (F)'].value_counts(dropna=False)"
   ]
  },
  {
   "cell_type": "code",
   "execution_count": 60,
   "metadata": {},
   "outputs": [
    {
     "data": {
      "text/plain": [
       "Company Name\n",
       "NaN                                            4478\n",
       "Retired                                          22\n",
       "Epic                                             19\n",
       "American Family Insurance                        13\n",
       "J.H. Findorff & Son Inc.                          8\n",
       "                                               ... \n",
       "American Family Insurance Dreams Foundation       1\n",
       "Dental Health Associates of Madison LTD.          1\n",
       "American Transmission Company                     1\n",
       "Toot + Kate's Winebar                             1\n",
       "Nevada Bobs Madison                               1\n",
       "Name: count, Length: 360, dtype: int64"
      ]
     },
     "execution_count": 60,
     "metadata": {},
     "output_type": "execute_result"
    }
   ],
   "source": [
    "allDonors['Company Name'].value_counts(dropna=False)"
   ]
  },
  {
   "cell_type": "code",
   "execution_count": 61,
   "metadata": {},
   "outputs": [
    {
     "data": {
      "text/plain": [
       "City\n",
       "NaN            2755\n",
       "Madison         688\n",
       "Middleton       124\n",
       "Sun Prairie     109\n",
       "Verona          108\n",
       "               ... \n",
       "Neenah            1\n",
       "Cincinnati        1\n",
       "DARLINGTON        1\n",
       "Mequon            1\n",
       "PLATTEVILLE       1\n",
       "Name: count, Length: 263, dtype: int64"
      ]
     },
     "execution_count": 61,
     "metadata": {},
     "output_type": "execute_result"
    }
   ],
   "source": [
    "allDonors['City'].value_counts(dropna=False)"
   ]
  },
  {
   "cell_type": "code",
   "execution_count": 62,
   "metadata": {},
   "outputs": [
    {
     "data": {
      "text/plain": [
       "State/Province\n",
       "NaN    2754\n",
       "WI     2199\n",
       "TX        7\n",
       "NY        7\n",
       "FL        6\n",
       "CA        5\n",
       "MN        5\n",
       "MA        4\n",
       "IL        4\n",
       "SC        3\n",
       "WA        3\n",
       "OH        2\n",
       "VA        2\n",
       "GA        1\n",
       "TN        1\n",
       "DC        1\n",
       "PA        1\n",
       "NJ        1\n",
       "MO        1\n",
       "DE        1\n",
       "Name: count, dtype: int64"
      ]
     },
     "execution_count": 62,
     "metadata": {},
     "output_type": "execute_result"
    }
   ],
   "source": [
    "allDonors['State/Province'].value_counts(dropna=False)"
   ]
  },
  {
   "cell_type": "code",
   "execution_count": 63,
   "metadata": {},
   "outputs": [
    {
     "data": {
      "text/plain": [
       "State/Province\n",
       "NaN    2754\n",
       "WI     2199\n",
       "TX        7\n",
       "NY        7\n",
       "FL        6\n",
       "CA        5\n",
       "MN        5\n",
       "MA        4\n",
       "IL        4\n",
       "SC        3\n",
       "WA        3\n",
       "OH        2\n",
       "VA        2\n",
       "GA        1\n",
       "TN        1\n",
       "DC        1\n",
       "PA        1\n",
       "NJ        1\n",
       "MO        1\n",
       "DE        1\n",
       "Name: count, dtype: int64"
      ]
     },
     "execution_count": 63,
     "metadata": {},
     "output_type": "execute_result"
    }
   ],
   "source": [
    "allDonors['State/Province'].value_counts(dropna=False)"
   ]
  },
  {
   "cell_type": "code",
   "execution_count": 64,
   "metadata": {},
   "outputs": [
    {
     "data": {
      "text/plain": [
       "Zip Code\n",
       "53711                   375\n",
       "53590                   289\n",
       "53704                   269\n",
       "53562                   249\n",
       "53593                   239\n",
       "                       ... \n",
       "85338                     1\n",
       "53559-9103                1\n",
       "53590852914993851847      1\n",
       "53574-9454                1\n",
       "53187                     1\n",
       "Name: count, Length: 501, dtype: int64"
      ]
     },
     "execution_count": 64,
     "metadata": {},
     "output_type": "execute_result"
    }
   ],
   "source": [
    "allDonors['Zip Code'].value_counts(dropna=False)"
   ]
  },
  {
   "cell_type": "code",
   "execution_count": 65,
   "metadata": {},
   "outputs": [],
   "source": [
    "allDonorsClean = allDonors.dropna(subset=['Full Name (F)', 'Company Name', 'City', 'State/Province', 'Zip Code']) #Drops rows with NaN Values for the given columns"
   ]
  },
  {
   "cell_type": "code",
   "execution_count": 66,
   "metadata": {},
   "outputs": [
    {
     "data": {
      "text/html": [
       "<div>\n",
       "<style scoped>\n",
       "    .dataframe tbody tr th:only-of-type {\n",
       "        vertical-align: middle;\n",
       "    }\n",
       "\n",
       "    .dataframe tbody tr th {\n",
       "        vertical-align: top;\n",
       "    }\n",
       "\n",
       "    .dataframe thead th {\n",
       "        text-align: right;\n",
       "    }\n",
       "</style>\n",
       "<table border=\"1\" class=\"dataframe\">\n",
       "  <thead>\n",
       "    <tr style=\"text-align: right;\">\n",
       "      <th></th>\n",
       "      <th>Account Type</th>\n",
       "      <th>Full Name (F)</th>\n",
       "      <th>Company Name</th>\n",
       "      <th>City</th>\n",
       "      <th>State/Province</th>\n",
       "      <th>Zip Code</th>\n",
       "      <th>Largest Donation Amount</th>\n",
       "    </tr>\n",
       "    <tr>\n",
       "      <th>Account ID</th>\n",
       "      <th></th>\n",
       "      <th></th>\n",
       "      <th></th>\n",
       "      <th></th>\n",
       "      <th></th>\n",
       "      <th></th>\n",
       "      <th></th>\n",
       "    </tr>\n",
       "  </thead>\n",
       "  <tbody>\n",
       "    <tr>\n",
       "      <th>177</th>\n",
       "      <td>Company</td>\n",
       "      <td>Nordic Consulting Partners</td>\n",
       "      <td>Nordic Consulting Partners</td>\n",
       "      <td>Madison</td>\n",
       "      <td>WI</td>\n",
       "      <td>53713</td>\n",
       "      <td>500.00</td>\n",
       "    </tr>\n",
       "    <tr>\n",
       "      <th>1598</th>\n",
       "      <td>Individual</td>\n",
       "      <td>Ralph A Meyer</td>\n",
       "      <td>Ralph  A  Meyer</td>\n",
       "      <td>Montfort,</td>\n",
       "      <td>WI</td>\n",
       "      <td>53569</td>\n",
       "      <td>51.85</td>\n",
       "    </tr>\n",
       "    <tr>\n",
       "      <th>6484</th>\n",
       "      <td>Individual</td>\n",
       "      <td>Robert Acker</td>\n",
       "      <td>Robert Acker</td>\n",
       "      <td>Waunakee</td>\n",
       "      <td>WI</td>\n",
       "      <td>53597</td>\n",
       "      <td>26.16</td>\n",
       "    </tr>\n",
       "    <tr>\n",
       "      <th>5935</th>\n",
       "      <td>Individual</td>\n",
       "      <td>Rhonda Adams</td>\n",
       "      <td>The River Food Pantry</td>\n",
       "      <td>Madison</td>\n",
       "      <td>WI</td>\n",
       "      <td>53718</td>\n",
       "      <td>250.00</td>\n",
       "    </tr>\n",
       "    <tr>\n",
       "      <th>398</th>\n",
       "      <td>Individual</td>\n",
       "      <td>David Aguero</td>\n",
       "      <td>St. Jude Children's Research Hospital</td>\n",
       "      <td>Memphis</td>\n",
       "      <td>TN</td>\n",
       "      <td>38117</td>\n",
       "      <td>26.06</td>\n",
       "    </tr>\n",
       "    <tr>\n",
       "      <th>5932</th>\n",
       "      <td>Company</td>\n",
       "      <td>Dean C Allen</td>\n",
       "      <td>McKinstry Charitabe Foundation</td>\n",
       "      <td>Seattle</td>\n",
       "      <td>WA</td>\n",
       "      <td>98134</td>\n",
       "      <td>600.00</td>\n",
       "    </tr>\n",
       "    <tr>\n",
       "      <th>6190</th>\n",
       "      <td>Individual</td>\n",
       "      <td>Rob and Jenny Baerwolf</td>\n",
       "      <td>Baerwolf Dairies LLC</td>\n",
       "      <td>Sun Prairie</td>\n",
       "      <td>WI</td>\n",
       "      <td>53590-9654</td>\n",
       "      <td>26.13</td>\n",
       "    </tr>\n",
       "    <tr>\n",
       "      <th>5146</th>\n",
       "      <td>Individual</td>\n",
       "      <td>Aimee Bailey</td>\n",
       "      <td>Veridian Homes Foundation</td>\n",
       "      <td>Oregon</td>\n",
       "      <td>WI</td>\n",
       "      <td>53575</td>\n",
       "      <td>100.00</td>\n",
       "    </tr>\n",
       "    <tr>\n",
       "      <th>5928</th>\n",
       "      <td>Company</td>\n",
       "      <td>Diane Ballweg</td>\n",
       "      <td>Endres Manufacturing Co. Foundation</td>\n",
       "      <td>Madison</td>\n",
       "      <td>WI</td>\n",
       "      <td>53703</td>\n",
       "      <td>5,000.00</td>\n",
       "    </tr>\n",
       "    <tr>\n",
       "      <th>1184</th>\n",
       "      <td>Individual</td>\n",
       "      <td>Karen Baltes</td>\n",
       "      <td>UW Whitewater</td>\n",
       "      <td>Middleton</td>\n",
       "      <td>WI</td>\n",
       "      <td>53562</td>\n",
       "      <td>51.80</td>\n",
       "    </tr>\n",
       "  </tbody>\n",
       "</table>\n",
       "</div>"
      ],
      "text/plain": [
       "           Account Type                Full Name (F)  \\\n",
       "Account ID                                             \n",
       "177             Company  Nordic Consulting Partners    \n",
       "1598         Individual                Ralph A Meyer   \n",
       "6484         Individual                 Robert Acker   \n",
       "5935         Individual                 Rhonda Adams   \n",
       "398          Individual                 David Aguero   \n",
       "5932            Company                 Dean C Allen   \n",
       "6190         Individual       Rob and Jenny Baerwolf   \n",
       "5146         Individual                 Aimee Bailey   \n",
       "5928            Company                Diane Ballweg   \n",
       "1184         Individual                 Karen Baltes   \n",
       "\n",
       "                                     Company Name         City State/Province  \\\n",
       "Account ID                                                                      \n",
       "177                    Nordic Consulting Partners      Madison             WI   \n",
       "1598                              Ralph  A  Meyer    Montfort,             WI   \n",
       "6484                                 Robert Acker     Waunakee             WI   \n",
       "5935                        The River Food Pantry      Madison             WI   \n",
       "398         St. Jude Children's Research Hospital      Memphis             TN   \n",
       "5932               McKinstry Charitabe Foundation      Seattle             WA   \n",
       "6190                         Baerwolf Dairies LLC  Sun Prairie             WI   \n",
       "5146                    Veridian Homes Foundation       Oregon             WI   \n",
       "5928          Endres Manufacturing Co. Foundation      Madison             WI   \n",
       "1184                                UW Whitewater    Middleton             WI   \n",
       "\n",
       "              Zip Code Largest Donation Amount  \n",
       "Account ID                                      \n",
       "177              53713                  500.00  \n",
       "1598             53569                   51.85  \n",
       "6484             53597                   26.16  \n",
       "5935             53718                  250.00  \n",
       "398              38117                   26.06  \n",
       "5932             98134                  600.00  \n",
       "6190        53590-9654                   26.13  \n",
       "5146             53575                  100.00  \n",
       "5928             53703                5,000.00  \n",
       "1184             53562                   51.80  "
      ]
     },
     "execution_count": 66,
     "metadata": {},
     "output_type": "execute_result"
    }
   ],
   "source": [
    "allDonorsClean.head(10)"
   ]
  },
  {
   "cell_type": "code",
   "execution_count": 67,
   "metadata": {},
   "outputs": [
    {
     "name": "stderr",
     "output_type": "stream",
     "text": [
      "C:\\Users\\prate\\AppData\\Local\\Temp\\ipykernel_14860\\3309086770.py:2: SettingWithCopyWarning: \n",
      "A value is trying to be set on a copy of a slice from a DataFrame.\n",
      "Try using .loc[row_indexer,col_indexer] = value instead\n",
      "\n",
      "See the caveats in the documentation: https://pandas.pydata.org/pandas-docs/stable/user_guide/indexing.html#returning-a-view-versus-a-copy\n",
      "  allDonorsClean['City'] = allDonorsClean['City'].str.title().str.strip()\n",
      "C:\\Users\\prate\\AppData\\Local\\Temp\\ipykernel_14860\\3309086770.py:3: SettingWithCopyWarning: \n",
      "A value is trying to be set on a copy of a slice from a DataFrame.\n",
      "Try using .loc[row_indexer,col_indexer] = value instead\n",
      "\n",
      "See the caveats in the documentation: https://pandas.pydata.org/pandas-docs/stable/user_guide/indexing.html#returning-a-view-versus-a-copy\n",
      "  allDonorsClean['City'] = allDonorsClean['City'].replace('[\\$,]', '', regex=True)\n"
     ]
    }
   ],
   "source": [
    "# Treating city names with different in sequences of literals\n",
    "allDonorsClean['City'] = allDonorsClean['City'].str.title().str.strip()\n",
    "allDonorsClean['City'] = allDonorsClean['City'].replace('[\\$,]', '', regex=True) \n"
   ]
  },
  {
   "cell_type": "code",
   "execution_count": 68,
   "metadata": {},
   "outputs": [
    {
     "data": {
      "text/plain": [
       "array(['WI', 'TN', 'WA', 'MA', 'GA', 'NY', 'SC', 'IL', 'VA', 'MN', 'FL',\n",
       "       'DE', 'TX', 'OH'], dtype=object)"
      ]
     },
     "execution_count": 68,
     "metadata": {},
     "output_type": "execute_result"
    }
   ],
   "source": [
    "allDonorsClean['State/Province'].unique() # Checks for unique states in the data set"
   ]
  },
  {
   "cell_type": "code",
   "execution_count": 69,
   "metadata": {},
   "outputs": [
    {
     "name": "stderr",
     "output_type": "stream",
     "text": [
      "C:\\Users\\prate\\AppData\\Local\\Temp\\ipykernel_14860\\2353345567.py:1: SettingWithCopyWarning: \n",
      "A value is trying to be set on a copy of a slice from a DataFrame.\n",
      "Try using .loc[row_indexer,col_indexer] = value instead\n",
      "\n",
      "See the caveats in the documentation: https://pandas.pydata.org/pandas-docs/stable/user_guide/indexing.html#returning-a-view-versus-a-copy\n",
      "  allDonorsClean['Largest Donation Amount'] = allDonorsClean['Largest Donation Amount'].replace('[\\$,]', '', regex=True).astype(float)\n"
     ]
    }
   ],
   "source": [
    "allDonorsClean['Largest Donation Amount'] = allDonorsClean['Largest Donation Amount'].replace('[\\$,]', '', regex=True).astype(float)"
   ]
  },
  {
   "cell_type": "code",
   "execution_count": 70,
   "metadata": {},
   "outputs": [
    {
     "data": {
      "text/plain": [
       "Account Type                object\n",
       "Full Name (F)               object\n",
       "Company Name                object\n",
       "City                        object\n",
       "State/Province              object\n",
       "Zip Code                    object\n",
       "Largest Donation Amount    float64\n",
       "dtype: object"
      ]
     },
     "execution_count": 70,
     "metadata": {},
     "output_type": "execute_result"
    }
   ],
   "source": [
    "allDonorsClean.dtypes"
   ]
  },
  {
   "cell_type": "code",
   "execution_count": 71,
   "metadata": {},
   "outputs": [
    {
     "data": {
      "text/html": [
       "<div>\n",
       "<style scoped>\n",
       "    .dataframe tbody tr th:only-of-type {\n",
       "        vertical-align: middle;\n",
       "    }\n",
       "\n",
       "    .dataframe tbody tr th {\n",
       "        vertical-align: top;\n",
       "    }\n",
       "\n",
       "    .dataframe thead th {\n",
       "        text-align: right;\n",
       "    }\n",
       "</style>\n",
       "<table border=\"1\" class=\"dataframe\">\n",
       "  <thead>\n",
       "    <tr style=\"text-align: right;\">\n",
       "      <th></th>\n",
       "      <th>Account Type</th>\n",
       "      <th>Full Name (F)</th>\n",
       "      <th>Company Name</th>\n",
       "      <th>City</th>\n",
       "      <th>State/Province</th>\n",
       "      <th>Zip Code</th>\n",
       "      <th>Largest Donation Amount</th>\n",
       "    </tr>\n",
       "    <tr>\n",
       "      <th>Account ID</th>\n",
       "      <th></th>\n",
       "      <th></th>\n",
       "      <th></th>\n",
       "      <th></th>\n",
       "      <th></th>\n",
       "      <th></th>\n",
       "      <th></th>\n",
       "    </tr>\n",
       "  </thead>\n",
       "  <tbody>\n",
       "    <tr>\n",
       "      <th>7450</th>\n",
       "      <td>Individual</td>\n",
       "      <td>Bryan Wierwill</td>\n",
       "      <td>Self</td>\n",
       "      <td>Verona</td>\n",
       "      <td>WI</td>\n",
       "      <td>53593</td>\n",
       "      <td>52.01</td>\n",
       "    </tr>\n",
       "    <tr>\n",
       "      <th>174</th>\n",
       "      <td>Company</td>\n",
       "      <td>Julie Wilson</td>\n",
       "      <td>Mount Horeb United Methodist Church</td>\n",
       "      <td>Mount Horeb</td>\n",
       "      <td>WI</td>\n",
       "      <td>53572</td>\n",
       "      <td>200.00</td>\n",
       "    </tr>\n",
       "    <tr>\n",
       "      <th>7099</th>\n",
       "      <td>Individual</td>\n",
       "      <td>Julie Wilson</td>\n",
       "      <td>Mount Horeb United Methodist Church</td>\n",
       "      <td>Madison</td>\n",
       "      <td>WI</td>\n",
       "      <td>53719</td>\n",
       "      <td>51.96</td>\n",
       "    </tr>\n",
       "    <tr>\n",
       "      <th>7607</th>\n",
       "      <td>Individual</td>\n",
       "      <td>John Wineke</td>\n",
       "      <td>East Madison Toyota</td>\n",
       "      <td>Sun Prairie</td>\n",
       "      <td>WI</td>\n",
       "      <td>53590</td>\n",
       "      <td>260.00</td>\n",
       "    </tr>\n",
       "    <tr>\n",
       "      <th>1766</th>\n",
       "      <td>Individual</td>\n",
       "      <td>Ed &amp; Kathy Wirka</td>\n",
       "      <td>Other</td>\n",
       "      <td>Madison</td>\n",
       "      <td>WI</td>\n",
       "      <td>53711</td>\n",
       "      <td>103.60</td>\n",
       "    </tr>\n",
       "    <tr>\n",
       "      <th>4980</th>\n",
       "      <td>Individual</td>\n",
       "      <td>Michelle Witt</td>\n",
       "      <td>CUNA Mutual Group</td>\n",
       "      <td>Madison</td>\n",
       "      <td>WI</td>\n",
       "      <td>53719</td>\n",
       "      <td>150.00</td>\n",
       "    </tr>\n",
       "    <tr>\n",
       "      <th>5874</th>\n",
       "      <td>Individual</td>\n",
       "      <td>Jessica Yehle</td>\n",
       "      <td>LCEC Volunteer</td>\n",
       "      <td>Madison</td>\n",
       "      <td>WI</td>\n",
       "      <td>53717</td>\n",
       "      <td>10000.00</td>\n",
       "    </tr>\n",
       "    <tr>\n",
       "      <th>2535</th>\n",
       "      <td>Individual</td>\n",
       "      <td>Jodi Zander</td>\n",
       "      <td>Allure Skin Health LLC</td>\n",
       "      <td>Sun Prairie</td>\n",
       "      <td>WI</td>\n",
       "      <td>53590</td>\n",
       "      <td>260.46</td>\n",
       "    </tr>\n",
       "    <tr>\n",
       "      <th>5652</th>\n",
       "      <td>Individual</td>\n",
       "      <td>Kevin &amp; Colleen Zimmerman</td>\n",
       "      <td>KCJ Angus</td>\n",
       "      <td>Platteville</td>\n",
       "      <td>WI</td>\n",
       "      <td>53818</td>\n",
       "      <td>26.13</td>\n",
       "    </tr>\n",
       "    <tr>\n",
       "      <th>7388</th>\n",
       "      <td>Individual</td>\n",
       "      <td>Mary Zimmerman</td>\n",
       "      <td>Mary  Zimmerman</td>\n",
       "      <td>Madison</td>\n",
       "      <td>WI</td>\n",
       "      <td>53704-1730</td>\n",
       "      <td>200.00</td>\n",
       "    </tr>\n",
       "  </tbody>\n",
       "</table>\n",
       "</div>"
      ],
      "text/plain": [
       "           Account Type              Full Name (F)  \\\n",
       "Account ID                                           \n",
       "7450         Individual             Bryan Wierwill   \n",
       "174             Company               Julie Wilson   \n",
       "7099         Individual               Julie Wilson   \n",
       "7607         Individual                John Wineke   \n",
       "1766         Individual           Ed & Kathy Wirka   \n",
       "4980         Individual              Michelle Witt   \n",
       "5874         Individual              Jessica Yehle   \n",
       "2535         Individual                Jodi Zander   \n",
       "5652         Individual  Kevin & Colleen Zimmerman   \n",
       "7388         Individual             Mary Zimmerman   \n",
       "\n",
       "                                   Company Name         City State/Province  \\\n",
       "Account ID                                                                    \n",
       "7450                                       Self       Verona             WI   \n",
       "174         Mount Horeb United Methodist Church  Mount Horeb             WI   \n",
       "7099        Mount Horeb United Methodist Church      Madison             WI   \n",
       "7607                        East Madison Toyota  Sun Prairie             WI   \n",
       "1766                                      Other      Madison             WI   \n",
       "4980                          CUNA Mutual Group      Madison             WI   \n",
       "5874                             LCEC Volunteer      Madison             WI   \n",
       "2535                     Allure Skin Health LLC  Sun Prairie             WI   \n",
       "5652                                  KCJ Angus  Platteville             WI   \n",
       "7388                            Mary  Zimmerman      Madison             WI   \n",
       "\n",
       "              Zip Code  Largest Donation Amount  \n",
       "Account ID                                       \n",
       "7450             53593                    52.01  \n",
       "174              53572                   200.00  \n",
       "7099             53719                    51.96  \n",
       "7607             53590                   260.00  \n",
       "1766             53711                   103.60  \n",
       "4980             53719                   150.00  \n",
       "5874             53717                 10000.00  \n",
       "2535             53590                   260.46  \n",
       "5652             53818                    26.13  \n",
       "7388        53704-1730                   200.00  "
      ]
     },
     "execution_count": 71,
     "metadata": {},
     "output_type": "execute_result"
    }
   ],
   "source": [
    "allDonorsClean.tail(10)"
   ]
  },
  {
   "cell_type": "code",
   "execution_count": 72,
   "metadata": {},
   "outputs": [
    {
     "data": {
      "image/png": "[encoded data removed]",
      "text/plain": [
       "<Figure size 1000x800 with 1 Axes>"
      ]
     },
     "metadata": {},
     "output_type": "display_data"
    }
   ],
   "source": [
    "state_donations = allDonorsClean.groupby('State/Province')['Largest Donation Amount'].sum()\n",
    "\n",
    "# Define a threshold for combining smaller donations\n",
    "threshold = state_donations.sum() * 0.02  # Example: Combine states that contribute less than 5% of total donations\n",
    "\n",
    "# Separate states above the threshold and combine the rest into 'Other'\n",
    "donations_above_threshold = state_donations[state_donations >= threshold]\n",
    "other_donations = state_donations[state_donations < threshold].sum()\n",
    "\n",
    "# Create a new Series with 'Other' category\n",
    "# Create a new Series with 'Other' category\n",
    "donations_to_plot = pd.concat([donations_above_threshold, pd.Series({'Other': other_donations})])\n",
    "\n",
    "# Create a pie chart for total donation amounts by state/province\n",
    "plt.figure(figsize=(10, 8))\n",
    "plt.pie(donations_to_plot, labels=donations_to_plot.index, autopct='%1.1f%%', startangle=140, colors=plt.cm.tab20c.colors)\n",
    "plt.title('Total Donations by State/Province (with Other Category)')\n",
    "plt.axis('equal')  # Equal aspect ratio ensures that pie is drawn as a circle\n",
    "plt.show()"
   ]
  },
  {
   "cell_type": "code",
   "execution_count": null,
   "metadata": {},
   "outputs": [],
   "source": [
    "allDonorsClean.to_csv('CleanedDonorsDataSets/allConorsClean.csv', index = True)"
   ]
  },
  {
   "cell_type": "code",
   "execution_count": 74,
   "metadata": {},
   "outputs": [
    {
     "data": {
      "image/png": "[encoded data removed]",
      "text/plain": [
       "<Figure size 800x600 with 1 Axes>"
      ]
     },
     "metadata": {},
     "output_type": "display_data"
    }
   ],
   "source": [
    "donation_type = allDonorsClean.groupby('Account Type')['Largest Donation Amount'].sum()\n",
    "\n",
    "plt.figure(figsize=(8, 6))\n",
    "donation_type.plot(kind='bar')\n",
    "plt.title('Total Largest Donation Amounts: Company vs Individual')\n",
    "plt.xlabel('Donor Type')\n",
    "plt.ylabel('Total Largest Donation Amount')\n",
    "plt.xticks(rotation=0)  # Rotate x-axis labels for clarity\n",
    "plt.grid(axis='y', linestyle='--', alpha=0.7)  # Add grid lines for better readability\n",
    "plt.tight_layout()\n",
    "plt.show()"
   ]
  },
  {
   "cell_type": "code",
   "execution_count": 75,
   "metadata": {},
   "outputs": [
    {
     "data": {
      "text/html": [
       "<div>\n",
       "<style scoped>\n",
       "    .dataframe tbody tr th:only-of-type {\n",
       "        vertical-align: middle;\n",
       "    }\n",
       "\n",
       "    .dataframe tbody tr th {\n",
       "        vertical-align: top;\n",
       "    }\n",
       "\n",
       "    .dataframe thead th {\n",
       "        text-align: right;\n",
       "    }\n",
       "</style>\n",
       "<table border=\"1\" class=\"dataframe\">\n",
       "  <thead>\n",
       "    <tr style=\"text-align: right;\">\n",
       "      <th></th>\n",
       "      <th>Account Type</th>\n",
       "      <th>Full Name (F)</th>\n",
       "      <th>Company Name</th>\n",
       "      <th>City</th>\n",
       "      <th>State/Province</th>\n",
       "      <th>Zip Code</th>\n",
       "      <th>Largest Donation Amount</th>\n",
       "    </tr>\n",
       "    <tr>\n",
       "      <th>Account ID</th>\n",
       "      <th></th>\n",
       "      <th></th>\n",
       "      <th></th>\n",
       "      <th></th>\n",
       "      <th></th>\n",
       "      <th></th>\n",
       "      <th></th>\n",
       "    </tr>\n",
       "  </thead>\n",
       "  <tbody>\n",
       "    <tr>\n",
       "      <th>177</th>\n",
       "      <td>Company</td>\n",
       "      <td>Nordic Consulting Partners</td>\n",
       "      <td>Nordic Consulting Partners</td>\n",
       "      <td>Madison</td>\n",
       "      <td>WI</td>\n",
       "      <td>53713</td>\n",
       "      <td>500.00</td>\n",
       "    </tr>\n",
       "    <tr>\n",
       "      <th>1598</th>\n",
       "      <td>Individual</td>\n",
       "      <td>Ralph A Meyer</td>\n",
       "      <td>Ralph  A  Meyer</td>\n",
       "      <td>Montfort</td>\n",
       "      <td>WI</td>\n",
       "      <td>53569</td>\n",
       "      <td>51.85</td>\n",
       "    </tr>\n",
       "    <tr>\n",
       "      <th>6484</th>\n",
       "      <td>Individual</td>\n",
       "      <td>Robert Acker</td>\n",
       "      <td>Robert Acker</td>\n",
       "      <td>Waunakee</td>\n",
       "      <td>WI</td>\n",
       "      <td>53597</td>\n",
       "      <td>26.16</td>\n",
       "    </tr>\n",
       "    <tr>\n",
       "      <th>5935</th>\n",
       "      <td>Individual</td>\n",
       "      <td>Rhonda Adams</td>\n",
       "      <td>The River Food Pantry</td>\n",
       "      <td>Madison</td>\n",
       "      <td>WI</td>\n",
       "      <td>53718</td>\n",
       "      <td>250.00</td>\n",
       "    </tr>\n",
       "    <tr>\n",
       "      <th>6190</th>\n",
       "      <td>Individual</td>\n",
       "      <td>Rob and Jenny Baerwolf</td>\n",
       "      <td>Baerwolf Dairies LLC</td>\n",
       "      <td>Sun Prairie</td>\n",
       "      <td>WI</td>\n",
       "      <td>53590-9654</td>\n",
       "      <td>26.13</td>\n",
       "    </tr>\n",
       "    <tr>\n",
       "      <th>...</th>\n",
       "      <td>...</td>\n",
       "      <td>...</td>\n",
       "      <td>...</td>\n",
       "      <td>...</td>\n",
       "      <td>...</td>\n",
       "      <td>...</td>\n",
       "      <td>...</td>\n",
       "    </tr>\n",
       "    <tr>\n",
       "      <th>4980</th>\n",
       "      <td>Individual</td>\n",
       "      <td>Michelle Witt</td>\n",
       "      <td>CUNA Mutual Group</td>\n",
       "      <td>Madison</td>\n",
       "      <td>WI</td>\n",
       "      <td>53719</td>\n",
       "      <td>150.00</td>\n",
       "    </tr>\n",
       "    <tr>\n",
       "      <th>5874</th>\n",
       "      <td>Individual</td>\n",
       "      <td>Jessica Yehle</td>\n",
       "      <td>LCEC Volunteer</td>\n",
       "      <td>Madison</td>\n",
       "      <td>WI</td>\n",
       "      <td>53717</td>\n",
       "      <td>10000.00</td>\n",
       "    </tr>\n",
       "    <tr>\n",
       "      <th>2535</th>\n",
       "      <td>Individual</td>\n",
       "      <td>Jodi Zander</td>\n",
       "      <td>Allure Skin Health LLC</td>\n",
       "      <td>Sun Prairie</td>\n",
       "      <td>WI</td>\n",
       "      <td>53590</td>\n",
       "      <td>260.46</td>\n",
       "    </tr>\n",
       "    <tr>\n",
       "      <th>5652</th>\n",
       "      <td>Individual</td>\n",
       "      <td>Kevin &amp; Colleen Zimmerman</td>\n",
       "      <td>KCJ Angus</td>\n",
       "      <td>Platteville</td>\n",
       "      <td>WI</td>\n",
       "      <td>53818</td>\n",
       "      <td>26.13</td>\n",
       "    </tr>\n",
       "    <tr>\n",
       "      <th>7388</th>\n",
       "      <td>Individual</td>\n",
       "      <td>Mary Zimmerman</td>\n",
       "      <td>Mary  Zimmerman</td>\n",
       "      <td>Madison</td>\n",
       "      <td>WI</td>\n",
       "      <td>53704-1730</td>\n",
       "      <td>200.00</td>\n",
       "    </tr>\n",
       "  </tbody>\n",
       "</table>\n",
       "<p>267 rows × 7 columns</p>\n",
       "</div>"
      ],
      "text/plain": [
       "           Account Type                Full Name (F)  \\\n",
       "Account ID                                             \n",
       "177             Company  Nordic Consulting Partners    \n",
       "1598         Individual                Ralph A Meyer   \n",
       "6484         Individual                 Robert Acker   \n",
       "5935         Individual                 Rhonda Adams   \n",
       "6190         Individual       Rob and Jenny Baerwolf   \n",
       "...                 ...                          ...   \n",
       "4980         Individual                Michelle Witt   \n",
       "5874         Individual                Jessica Yehle   \n",
       "2535         Individual                  Jodi Zander   \n",
       "5652         Individual    Kevin & Colleen Zimmerman   \n",
       "7388         Individual               Mary Zimmerman   \n",
       "\n",
       "                          Company Name         City State/Province  \\\n",
       "Account ID                                                           \n",
       "177         Nordic Consulting Partners      Madison             WI   \n",
       "1598                   Ralph  A  Meyer     Montfort             WI   \n",
       "6484                      Robert Acker     Waunakee             WI   \n",
       "5935             The River Food Pantry      Madison             WI   \n",
       "6190              Baerwolf Dairies LLC  Sun Prairie             WI   \n",
       "...                                ...          ...            ...   \n",
       "4980                 CUNA Mutual Group      Madison             WI   \n",
       "5874                    LCEC Volunteer      Madison             WI   \n",
       "2535            Allure Skin Health LLC  Sun Prairie             WI   \n",
       "5652                         KCJ Angus  Platteville             WI   \n",
       "7388                   Mary  Zimmerman      Madison             WI   \n",
       "\n",
       "              Zip Code  Largest Donation Amount  \n",
       "Account ID                                       \n",
       "177              53713                   500.00  \n",
       "1598             53569                    51.85  \n",
       "6484             53597                    26.16  \n",
       "5935             53718                   250.00  \n",
       "6190        53590-9654                    26.13  \n",
       "...                ...                      ...  \n",
       "4980             53719                   150.00  \n",
       "5874             53717                 10000.00  \n",
       "2535             53590                   260.46  \n",
       "5652             53818                    26.13  \n",
       "7388        53704-1730                   200.00  \n",
       "\n",
       "[267 rows x 7 columns]"
      ]
     },
     "execution_count": 75,
     "metadata": {},
     "output_type": "execute_result"
    }
   ],
   "source": [
    "allDonorsWI = allDonorsClean[allDonorsClean['State/Province'] == \"WI\"] # Making a separate dataset specific to Wisconsin\n",
    "allDonorsWI"
   ]
  },
  {
   "cell_type": "code",
   "execution_count": 76,
   "metadata": {},
   "outputs": [
    {
     "data": {
      "text/plain": [
       "array(['Madison', 'Montfort', 'Waunakee', 'Sun Prairie', 'Oregon',\n",
       "       'Middleton', 'Cambridge', 'Cottage Grove', 'Whitefish Bay',\n",
       "       'Verona', 'Monona', 'Poynette', 'Orfordville', 'Janesville',\n",
       "       'Deforest', 'Marshall', 'Spring Green', 'Mcfarland', 'Sauk City',\n",
       "       'Prairie Du Sac', 'Potosi', 'Sun Prairie Wi', '53711',\n",
       "       'Briggsville', 'Fitchburg', 'Edgerton', 'Deerfield',\n",
       "       'Cross Plains', 'Evansville', 'Milwaukee', 'Richland Ctr',\n",
       "       'Monroe', 'Cambria', 'De Forest', 'Belleville', 'Juneau',\n",
       "       'Mount Horeb', 'Black Earth', 'Avalon', 'Madisin', 'Watertown',\n",
       "       'Reedsburg', 'Waukesha Wisconsin Ee. Uu.', 'Lodi', 'Baraboo',\n",
       "       'Verona Wi', 'Blanchardville', 'Brooklyn', 'Albany', 'Palmyra',\n",
       "       'Barneveld', 'Oak Creek', 'Rhinelander', 'Oconomowoc', 'Beloit',\n",
       "       'Lake Mills', 'New Glarus', 'Milton', 'Windsor', 'Menomonee Falls',\n",
       "       'Stoughton', 'Mc Farland', 'Platteville'], dtype=object)"
      ]
     },
     "execution_count": 76,
     "metadata": {},
     "output_type": "execute_result"
    }
   ],
   "source": [
    "allDonorsWI['City'].unique()"
   ]
  },
  {
   "cell_type": "code",
   "execution_count": 77,
   "metadata": {},
   "outputs": [
    {
     "data": {
      "text/plain": [
       "<bound method IndexOpsMixin.value_counts of Account ID\n",
       "177         Madison\n",
       "1598       Montfort\n",
       "6484       Waunakee\n",
       "5935        Madison\n",
       "6190    Sun Prairie\n",
       "           ...     \n",
       "4980        Madison\n",
       "5874        Madison\n",
       "2535    Sun Prairie\n",
       "5652    Platteville\n",
       "7388        Madison\n",
       "Name: City, Length: 267, dtype: object>"
      ]
     },
     "execution_count": 77,
     "metadata": {},
     "output_type": "execute_result"
    }
   ],
   "source": [
    "allDonorsWI['City'].value_counts"
   ]
  },
  {
   "cell_type": "code",
   "execution_count": 78,
   "metadata": {},
   "outputs": [
    {
     "name": "stderr",
     "output_type": "stream",
     "text": [
      "C:\\Users\\prate\\AppData\\Local\\Temp\\ipykernel_14860\\3531750461.py:1: SettingWithCopyWarning: \n",
      "A value is trying to be set on a copy of a slice from a DataFrame.\n",
      "Try using .loc[row_indexer,col_indexer] = value instead\n",
      "\n",
      "See the caveats in the documentation: https://pandas.pydata.org/pandas-docs/stable/user_guide/indexing.html#returning-a-view-versus-a-copy\n",
      "  allDonorsWI['Largest Donation Amount'] = allDonorsWI['Largest Donation Amount'].replace('[\\$,]', '', regex=True).astype(float)\n"
     ]
    }
   ],
   "source": [
    "allDonorsWI['Largest Donation Amount'] = allDonorsWI['Largest Donation Amount'].replace('[\\$,]', '', regex=True).astype(float)"
   ]
  },
  {
   "cell_type": "code",
   "execution_count": 79,
   "metadata": {},
   "outputs": [
    {
     "data": {
      "text/html": [
       "<div>\n",
       "<style scoped>\n",
       "    .dataframe tbody tr th:only-of-type {\n",
       "        vertical-align: middle;\n",
       "    }\n",
       "\n",
       "    .dataframe tbody tr th {\n",
       "        vertical-align: top;\n",
       "    }\n",
       "\n",
       "    .dataframe thead th {\n",
       "        text-align: right;\n",
       "    }\n",
       "</style>\n",
       "<table border=\"1\" class=\"dataframe\">\n",
       "  <thead>\n",
       "    <tr style=\"text-align: right;\">\n",
       "      <th></th>\n",
       "      <th>Account Type</th>\n",
       "      <th>Full Name (F)</th>\n",
       "      <th>Company Name</th>\n",
       "      <th>City</th>\n",
       "      <th>State/Province</th>\n",
       "      <th>Zip Code</th>\n",
       "      <th>Largest Donation Amount</th>\n",
       "    </tr>\n",
       "    <tr>\n",
       "      <th>Account ID</th>\n",
       "      <th></th>\n",
       "      <th></th>\n",
       "      <th></th>\n",
       "      <th></th>\n",
       "      <th></th>\n",
       "      <th></th>\n",
       "      <th></th>\n",
       "    </tr>\n",
       "  </thead>\n",
       "  <tbody>\n",
       "    <tr>\n",
       "      <th>177</th>\n",
       "      <td>Company</td>\n",
       "      <td>Nordic Consulting Partners</td>\n",
       "      <td>Nordic Consulting Partners</td>\n",
       "      <td>Madison</td>\n",
       "      <td>WI</td>\n",
       "      <td>53713</td>\n",
       "      <td>500.00</td>\n",
       "    </tr>\n",
       "    <tr>\n",
       "      <th>1598</th>\n",
       "      <td>Individual</td>\n",
       "      <td>Ralph A Meyer</td>\n",
       "      <td>Ralph  A  Meyer</td>\n",
       "      <td>Montfort</td>\n",
       "      <td>WI</td>\n",
       "      <td>53569</td>\n",
       "      <td>51.85</td>\n",
       "    </tr>\n",
       "    <tr>\n",
       "      <th>6484</th>\n",
       "      <td>Individual</td>\n",
       "      <td>Robert Acker</td>\n",
       "      <td>Robert Acker</td>\n",
       "      <td>Waunakee</td>\n",
       "      <td>WI</td>\n",
       "      <td>53597</td>\n",
       "      <td>26.16</td>\n",
       "    </tr>\n",
       "    <tr>\n",
       "      <th>5935</th>\n",
       "      <td>Individual</td>\n",
       "      <td>Rhonda Adams</td>\n",
       "      <td>The River Food Pantry</td>\n",
       "      <td>Madison</td>\n",
       "      <td>WI</td>\n",
       "      <td>53718</td>\n",
       "      <td>250.00</td>\n",
       "    </tr>\n",
       "    <tr>\n",
       "      <th>6190</th>\n",
       "      <td>Individual</td>\n",
       "      <td>Rob and Jenny Baerwolf</td>\n",
       "      <td>Baerwolf Dairies LLC</td>\n",
       "      <td>Sun Prairie</td>\n",
       "      <td>WI</td>\n",
       "      <td>53590-9654</td>\n",
       "      <td>26.13</td>\n",
       "    </tr>\n",
       "    <tr>\n",
       "      <th>...</th>\n",
       "      <td>...</td>\n",
       "      <td>...</td>\n",
       "      <td>...</td>\n",
       "      <td>...</td>\n",
       "      <td>...</td>\n",
       "      <td>...</td>\n",
       "      <td>...</td>\n",
       "    </tr>\n",
       "    <tr>\n",
       "      <th>4980</th>\n",
       "      <td>Individual</td>\n",
       "      <td>Michelle Witt</td>\n",
       "      <td>CUNA Mutual Group</td>\n",
       "      <td>Madison</td>\n",
       "      <td>WI</td>\n",
       "      <td>53719</td>\n",
       "      <td>150.00</td>\n",
       "    </tr>\n",
       "    <tr>\n",
       "      <th>5874</th>\n",
       "      <td>Individual</td>\n",
       "      <td>Jessica Yehle</td>\n",
       "      <td>LCEC Volunteer</td>\n",
       "      <td>Madison</td>\n",
       "      <td>WI</td>\n",
       "      <td>53717</td>\n",
       "      <td>10000.00</td>\n",
       "    </tr>\n",
       "    <tr>\n",
       "      <th>2535</th>\n",
       "      <td>Individual</td>\n",
       "      <td>Jodi Zander</td>\n",
       "      <td>Allure Skin Health LLC</td>\n",
       "      <td>Sun Prairie</td>\n",
       "      <td>WI</td>\n",
       "      <td>53590</td>\n",
       "      <td>260.46</td>\n",
       "    </tr>\n",
       "    <tr>\n",
       "      <th>5652</th>\n",
       "      <td>Individual</td>\n",
       "      <td>Kevin &amp; Colleen Zimmerman</td>\n",
       "      <td>KCJ Angus</td>\n",
       "      <td>Platteville</td>\n",
       "      <td>WI</td>\n",
       "      <td>53818</td>\n",
       "      <td>26.13</td>\n",
       "    </tr>\n",
       "    <tr>\n",
       "      <th>7388</th>\n",
       "      <td>Individual</td>\n",
       "      <td>Mary Zimmerman</td>\n",
       "      <td>Mary  Zimmerman</td>\n",
       "      <td>Madison</td>\n",
       "      <td>WI</td>\n",
       "      <td>53704-1730</td>\n",
       "      <td>200.00</td>\n",
       "    </tr>\n",
       "  </tbody>\n",
       "</table>\n",
       "<p>267 rows × 7 columns</p>\n",
       "</div>"
      ],
      "text/plain": [
       "           Account Type                Full Name (F)  \\\n",
       "Account ID                                             \n",
       "177             Company  Nordic Consulting Partners    \n",
       "1598         Individual                Ralph A Meyer   \n",
       "6484         Individual                 Robert Acker   \n",
       "5935         Individual                 Rhonda Adams   \n",
       "6190         Individual       Rob and Jenny Baerwolf   \n",
       "...                 ...                          ...   \n",
       "4980         Individual                Michelle Witt   \n",
       "5874         Individual                Jessica Yehle   \n",
       "2535         Individual                  Jodi Zander   \n",
       "5652         Individual    Kevin & Colleen Zimmerman   \n",
       "7388         Individual               Mary Zimmerman   \n",
       "\n",
       "                          Company Name         City State/Province  \\\n",
       "Account ID                                                           \n",
       "177         Nordic Consulting Partners      Madison             WI   \n",
       "1598                   Ralph  A  Meyer     Montfort             WI   \n",
       "6484                      Robert Acker     Waunakee             WI   \n",
       "5935             The River Food Pantry      Madison             WI   \n",
       "6190              Baerwolf Dairies LLC  Sun Prairie             WI   \n",
       "...                                ...          ...            ...   \n",
       "4980                 CUNA Mutual Group      Madison             WI   \n",
       "5874                    LCEC Volunteer      Madison             WI   \n",
       "2535            Allure Skin Health LLC  Sun Prairie             WI   \n",
       "5652                         KCJ Angus  Platteville             WI   \n",
       "7388                   Mary  Zimmerman      Madison             WI   \n",
       "\n",
       "              Zip Code  Largest Donation Amount  \n",
       "Account ID                                       \n",
       "177              53713                   500.00  \n",
       "1598             53569                    51.85  \n",
       "6484             53597                    26.16  \n",
       "5935             53718                   250.00  \n",
       "6190        53590-9654                    26.13  \n",
       "...                ...                      ...  \n",
       "4980             53719                   150.00  \n",
       "5874             53717                 10000.00  \n",
       "2535             53590                   260.46  \n",
       "5652             53818                    26.13  \n",
       "7388        53704-1730                   200.00  \n",
       "\n",
       "[267 rows x 7 columns]"
      ]
     },
     "execution_count": 79,
     "metadata": {},
     "output_type": "execute_result"
    }
   ],
   "source": [
    "allDonorsWI"
   ]
  },
  {
   "cell_type": "code",
   "execution_count": 80,
   "metadata": {},
   "outputs": [
    {
     "data": {
      "text/plain": [
       "count      267.000000\n",
       "mean       721.919625\n",
       "std       2631.057269\n",
       "min          0.000000\n",
       "25%         50.000000\n",
       "50%        103.300000\n",
       "75%        300.000000\n",
       "max      30000.000000\n",
       "Name: Largest Donation Amount, dtype: float64"
      ]
     },
     "execution_count": 80,
     "metadata": {},
     "output_type": "execute_result"
    }
   ],
   "source": [
    "allDonorsWI['Largest Donation Amount'].describe()"
   ]
  },
  {
   "cell_type": "code",
   "execution_count": 81,
   "metadata": {},
   "outputs": [
    {
     "name": "stderr",
     "output_type": "stream",
     "text": [
      "C:\\Users\\prate\\AppData\\Local\\Temp\\ipykernel_14860\\2120168512.py:1: SettingWithCopyWarning: \n",
      "A value is trying to be set on a copy of a slice from a DataFrame.\n",
      "Try using .loc[row_indexer,col_indexer] = value instead\n",
      "\n",
      "See the caveats in the documentation: https://pandas.pydata.org/pandas-docs/stable/user_guide/indexing.html#returning-a-view-versus-a-copy\n",
      "  allDonorsWI['City'] = allDonorsWI['City'].str.title().str.strip()\n"
     ]
    }
   ],
   "source": [
    "allDonorsWI['City'] = allDonorsWI['City'].str.title().str.strip()"
   ]
  },
  {
   "cell_type": "code",
   "execution_count": 82,
   "metadata": {},
   "outputs": [
    {
     "data": {
      "image/png": "[encoded data removed]",
      "text/plain": [
       "<Figure size 1200x800 with 1 Axes>"
      ]
     },
     "metadata": {},
     "output_type": "display_data"
    }
   ],
   "source": [
    "city_counts = allDonorsWI['City'].value_counts()\n",
    "plt.figure(figsize=(12, 8))\n",
    "city_counts.plot(kind='bar', color='skyblue', edgecolor='black')\n",
    "plt.title('Distribution of Donors by City in Wisconsin')\n",
    "plt.xlabel('City')\n",
    "plt.ylabel('Number of Donors')\n",
    "plt.xticks(rotation=45, ha='right')  # Rotate x-axis labels for better readability\n",
    "plt.tight_layout()  # Adjust layout to prevent clipping of labels\n",
    "plt.show()"
   ]
  },
  {
   "cell_type": "code",
   "execution_count": 83,
   "metadata": {},
   "outputs": [
    {
     "data": {
      "image/png": "[encoded data removed]",
      "text/plain": [
       "<Figure size 1200x800 with 1 Axes>"
      ]
     },
     "metadata": {},
     "output_type": "display_data"
    }
   ],
   "source": [
    "city_donations = (allDonorsWI.groupby('City')['Largest Donation Amount'].sum()).sort_values()\n",
    "\n",
    "plt.figure(figsize=(12, 8))\n",
    "city_donations.plot(kind='bar', color='skyblue', edgecolor='black')\n",
    "plt.title('Total Donations by City in Wisconsin')\n",
    "plt.xlabel('City')\n",
    "plt.ylabel('Total Donation Amount ($)')\n",
    "plt.yscale('log')  # Use a logarithmic scale for the y-axis\n",
    "plt.xticks(rotation=45, ha='right')  # Rotate x-axis labels for better readability\n",
    "plt.tight_layout()  # Adjust layout to prevent clipping of labels\n",
    "plt.grid(axis='y', linestyle='--')  # Optional: add a grid for better readability\n",
    "plt.show()"
   ]
  }
 ],
 "metadata": {
  "kernelspec": {
   "display_name": "myenv",
   "language": "python",
   "name": "python3"
  },
  "language_info": {
   "codemirror_mode": {
    "name": "ipython",
    "version": 3
   },
   "file_extension": ".py",
   "mimetype": "text/x-python",
   "name": "python",
   "nbconvert_exporter": "python",
   "pygments_lexer": "ipython3",
   "version": "3.11.9"
  }
 },
 "nbformat": 4,
 "nbformat_minor": 2
}
