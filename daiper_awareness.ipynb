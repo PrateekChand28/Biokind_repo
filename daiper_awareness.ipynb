{
 "cells": [
  {
   "cell_type": "markdown",
   "metadata": {},
   "source": [
    "We compared the Diaper Awareness Week Campaign Data Set with the “All Accounts Without Transaction” data set and “Active Recurring Donations Dataset”"
   ]
  },
  {
   "cell_type": "code",
   "execution_count": 50,
   "metadata": {},
   "outputs": [],
   "source": [
    "import pandas as pd\n",
    "import numpy as np\n",
    "import matplotlib.pyplot as plt\n",
    "import seaborn\n",
    "\n",
    "plt.style.use('seaborn-v0_8-paper')"
   ]
  },
  {
   "cell_type": "code",
   "execution_count": 51,
   "metadata": {},
   "outputs": [],
   "source": [
    "week_opens = pd.read_csv(\"diaper_awareness_week_email_metrics_2020-20241116T215646Z-001\\diaper_awareness_week_email_metrics_2020\\diaper_need_awareness_week_opens.csv\", parse_dates=['Last Open'], index_col=['Account ID'])"
   ]
  },
  {
   "cell_type": "code",
   "execution_count": 52,
   "metadata": {},
   "outputs": [
    {
     "data": {
      "text/html": [
       "<div>\n",
       "<style scoped>\n",
       "    .dataframe tbody tr th:only-of-type {\n",
       "        vertical-align: middle;\n",
       "    }\n",
       "\n",
       "    .dataframe tbody tr th {\n",
       "        vertical-align: top;\n",
       "    }\n",
       "\n",
       "    .dataframe thead th {\n",
       "        text-align: right;\n",
       "    }\n",
       "</style>\n",
       "<table border=\"1\" class=\"dataframe\">\n",
       "  <thead>\n",
       "    <tr style=\"text-align: right;\">\n",
       "      <th></th>\n",
       "      <th>Email</th>\n",
       "      <th>Name</th>\n",
       "      <th>Opens</th>\n",
       "      <th>Last Open</th>\n",
       "      <th>Unnamed: 5</th>\n",
       "    </tr>\n",
       "    <tr>\n",
       "      <th>Account ID</th>\n",
       "      <th></th>\n",
       "      <th></th>\n",
       "      <th></th>\n",
       "      <th></th>\n",
       "      <th></th>\n",
       "    </tr>\n",
       "  </thead>\n",
       "  <tbody>\n",
       "    <tr>\n",
       "      <th>101</th>\n",
       "      <td>seth@kilterrewards.com</td>\n",
       "      <td>Seth Braddock</td>\n",
       "      <td>1</td>\n",
       "      <td>2020-09-23</td>\n",
       "      <td>NaN</td>\n",
       "    </tr>\n",
       "    <tr>\n",
       "      <th>102</th>\n",
       "      <td>ashleylocke24@gmail.com</td>\n",
       "      <td>Ashley Locke</td>\n",
       "      <td>4</td>\n",
       "      <td>2020-09-23</td>\n",
       "      <td>NaN</td>\n",
       "    </tr>\n",
       "    <tr>\n",
       "      <th>104</th>\n",
       "      <td>Shrrodgers@yahoo.com</td>\n",
       "      <td>Sharon Rodgers</td>\n",
       "      <td>2</td>\n",
       "      <td>2020-09-23</td>\n",
       "      <td>NaN</td>\n",
       "    </tr>\n",
       "    <tr>\n",
       "      <th>106</th>\n",
       "      <td>troy@vosseller.com</td>\n",
       "      <td>Troy Vosseller</td>\n",
       "      <td>1</td>\n",
       "      <td>2020-09-23</td>\n",
       "      <td>NaN</td>\n",
       "    </tr>\n",
       "    <tr>\n",
       "      <th>107</th>\n",
       "      <td>jettlie888@yahoo.com</td>\n",
       "      <td>Jonathan Ettlie</td>\n",
       "      <td>11</td>\n",
       "      <td>2020-09-24</td>\n",
       "      <td>NaN</td>\n",
       "    </tr>\n",
       "    <tr>\n",
       "      <th>...</th>\n",
       "      <td>...</td>\n",
       "      <td>...</td>\n",
       "      <td>...</td>\n",
       "      <td>...</td>\n",
       "      <td>...</td>\n",
       "    </tr>\n",
       "    <tr>\n",
       "      <th>46</th>\n",
       "      <td>becca@jssmadison.org</td>\n",
       "      <td>Rebecca Schwartz</td>\n",
       "      <td>23</td>\n",
       "      <td>2020-10-08</td>\n",
       "      <td>NaN</td>\n",
       "    </tr>\n",
       "    <tr>\n",
       "      <th>51</th>\n",
       "      <td>bsollenb@gmail.com</td>\n",
       "      <td>Brad Sollenberger</td>\n",
       "      <td>1</td>\n",
       "      <td>2020-09-23</td>\n",
       "      <td>NaN</td>\n",
       "    </tr>\n",
       "    <tr>\n",
       "      <th>53</th>\n",
       "      <td>lseidl-gafner@reachdane.org</td>\n",
       "      <td>Lisa Siedl-Gafner</td>\n",
       "      <td>15</td>\n",
       "      <td>2020-10-27</td>\n",
       "      <td>NaN</td>\n",
       "    </tr>\n",
       "    <tr>\n",
       "      <th>56</th>\n",
       "      <td>brickdeeproots@gmail.com</td>\n",
       "      <td>Linda Brick</td>\n",
       "      <td>3</td>\n",
       "      <td>2020-09-23</td>\n",
       "      <td>NaN</td>\n",
       "    </tr>\n",
       "    <tr>\n",
       "      <th>87</th>\n",
       "      <td>kulaky@gmail.com</td>\n",
       "      <td>Patricia Garbarra</td>\n",
       "      <td>1</td>\n",
       "      <td>2020-10-05</td>\n",
       "      <td>NaN</td>\n",
       "    </tr>\n",
       "  </tbody>\n",
       "</table>\n",
       "<p>116 rows × 5 columns</p>\n",
       "</div>"
      ],
      "text/plain": [
       "                                  Email               Name  Opens  Last Open  \\\n",
       "Account ID                                                                     \n",
       "101              seth@kilterrewards.com      Seth Braddock      1 2020-09-23   \n",
       "102             ashleylocke24@gmail.com       Ashley Locke      4 2020-09-23   \n",
       "104                Shrrodgers@yahoo.com     Sharon Rodgers      2 2020-09-23   \n",
       "106                  troy@vosseller.com     Troy Vosseller      1 2020-09-23   \n",
       "107                jettlie888@yahoo.com    Jonathan Ettlie     11 2020-09-24   \n",
       "...                                 ...                ...    ...        ...   \n",
       "46                 becca@jssmadison.org   Rebecca Schwartz     23 2020-10-08   \n",
       "51                   bsollenb@gmail.com  Brad Sollenberger      1 2020-09-23   \n",
       "53          lseidl-gafner@reachdane.org  Lisa Siedl-Gafner     15 2020-10-27   \n",
       "56             brickdeeproots@gmail.com        Linda Brick      3 2020-09-23   \n",
       "87                     kulaky@gmail.com  Patricia Garbarra      1 2020-10-05   \n",
       "\n",
       "            Unnamed: 5  \n",
       "Account ID              \n",
       "101                NaN  \n",
       "102                NaN  \n",
       "104                NaN  \n",
       "106                NaN  \n",
       "107                NaN  \n",
       "...                ...  \n",
       "46                 NaN  \n",
       "51                 NaN  \n",
       "53                 NaN  \n",
       "56                 NaN  \n",
       "87                 NaN  \n",
       "\n",
       "[116 rows x 5 columns]"
      ]
     },
     "execution_count": 52,
     "metadata": {},
     "output_type": "execute_result"
    }
   ],
   "source": [
    "week_opens"
   ]
  },
  {
   "cell_type": "code",
   "execution_count": 53,
   "metadata": {},
   "outputs": [
    {
     "data": {
      "text/plain": [
       "Index(['Email', 'Name', 'Opens', 'Last Open', 'Unnamed: 5'], dtype='object')"
      ]
     },
     "execution_count": 53,
     "metadata": {},
     "output_type": "execute_result"
    }
   ],
   "source": [
    "week_opens.columns"
   ]
  },
  {
   "cell_type": "code",
   "execution_count": 54,
   "metadata": {},
   "outputs": [],
   "source": [
    "week_opens.drop(['Unnamed: 5'], axis = 1, inplace = True) # Drops the given column"
   ]
  },
  {
   "cell_type": "code",
   "execution_count": 55,
   "metadata": {},
   "outputs": [
    {
     "data": {
      "text/plain": [
       "Email                object\n",
       "Name                 object\n",
       "Opens                 int64\n",
       "Last Open    datetime64[ns]\n",
       "dtype: object"
      ]
     },
     "execution_count": 55,
     "metadata": {},
     "output_type": "execute_result"
    }
   ],
   "source": [
    "week_opens.dtypes # Checks data type of each column"
   ]
  },
  {
   "cell_type": "code",
   "execution_count": 56,
   "metadata": {},
   "outputs": [
    {
     "data": {
      "text/plain": [
       "[]"
      ]
     },
     "execution_count": 56,
     "metadata": {},
     "output_type": "execute_result"
    }
   ],
   "source": [
    "week_opens.columns[week_opens.isna().any()].tolist() # Checks for columns with NaN"
   ]
  },
  {
   "cell_type": "code",
   "execution_count": 57,
   "metadata": {},
   "outputs": [
    {
     "data": {
      "text/html": [
       "<div>\n",
       "<style scoped>\n",
       "    .dataframe tbody tr th:only-of-type {\n",
       "        vertical-align: middle;\n",
       "    }\n",
       "\n",
       "    .dataframe tbody tr th {\n",
       "        vertical-align: top;\n",
       "    }\n",
       "\n",
       "    .dataframe thead th {\n",
       "        text-align: right;\n",
       "    }\n",
       "</style>\n",
       "<table border=\"1\" class=\"dataframe\">\n",
       "  <thead>\n",
       "    <tr style=\"text-align: right;\">\n",
       "      <th></th>\n",
       "      <th>Email</th>\n",
       "      <th>Name</th>\n",
       "      <th>Opens</th>\n",
       "      <th>Last Open</th>\n",
       "    </tr>\n",
       "    <tr>\n",
       "      <th>Account ID</th>\n",
       "      <th></th>\n",
       "      <th></th>\n",
       "      <th></th>\n",
       "      <th></th>\n",
       "    </tr>\n",
       "  </thead>\n",
       "  <tbody>\n",
       "    <tr>\n",
       "      <th>318</th>\n",
       "      <td>aenymann@outlook.com</td>\n",
       "      <td>Ann Nymann</td>\n",
       "      <td>31</td>\n",
       "      <td>2020-10-08</td>\n",
       "    </tr>\n",
       "    <tr>\n",
       "      <th>46</th>\n",
       "      <td>becca@jssmadison.org</td>\n",
       "      <td>Rebecca Schwartz</td>\n",
       "      <td>23</td>\n",
       "      <td>2020-10-08</td>\n",
       "    </tr>\n",
       "    <tr>\n",
       "      <th>15</th>\n",
       "      <td>jzboll@hotmail.com</td>\n",
       "      <td>Joan Boll</td>\n",
       "      <td>15</td>\n",
       "      <td>2020-09-23</td>\n",
       "    </tr>\n",
       "    <tr>\n",
       "      <th>53</th>\n",
       "      <td>lseidl-gafner@reachdane.org</td>\n",
       "      <td>Lisa Siedl-Gafner</td>\n",
       "      <td>15</td>\n",
       "      <td>2020-10-27</td>\n",
       "    </tr>\n",
       "    <tr>\n",
       "      <th>107</th>\n",
       "      <td>jettlie888@yahoo.com</td>\n",
       "      <td>Jonathan Ettlie</td>\n",
       "      <td>11</td>\n",
       "      <td>2020-09-24</td>\n",
       "    </tr>\n",
       "    <tr>\n",
       "      <th>...</th>\n",
       "      <td>...</td>\n",
       "      <td>...</td>\n",
       "      <td>...</td>\n",
       "      <td>...</td>\n",
       "    </tr>\n",
       "    <tr>\n",
       "      <th>378</th>\n",
       "      <td>wkkwagner@gmail.com</td>\n",
       "      <td>KIMBERLY WAGNER</td>\n",
       "      <td>1</td>\n",
       "      <td>2020-09-23</td>\n",
       "    </tr>\n",
       "    <tr>\n",
       "      <th>382</th>\n",
       "      <td>v.hokanson@gmail.com</td>\n",
       "      <td>Vicki Hokanson</td>\n",
       "      <td>1</td>\n",
       "      <td>2020-09-23</td>\n",
       "    </tr>\n",
       "    <tr>\n",
       "      <th>386</th>\n",
       "      <td>waunakeevet@tds.net</td>\n",
       "      <td>Karen Lange</td>\n",
       "      <td>1</td>\n",
       "      <td>2020-09-23</td>\n",
       "    </tr>\n",
       "    <tr>\n",
       "      <th>51</th>\n",
       "      <td>bsollenb@gmail.com</td>\n",
       "      <td>Brad Sollenberger</td>\n",
       "      <td>1</td>\n",
       "      <td>2020-09-23</td>\n",
       "    </tr>\n",
       "    <tr>\n",
       "      <th>87</th>\n",
       "      <td>kulaky@gmail.com</td>\n",
       "      <td>Patricia Garbarra</td>\n",
       "      <td>1</td>\n",
       "      <td>2020-10-05</td>\n",
       "    </tr>\n",
       "  </tbody>\n",
       "</table>\n",
       "<p>116 rows × 4 columns</p>\n",
       "</div>"
      ],
      "text/plain": [
       "                                  Email               Name  Opens  Last Open\n",
       "Account ID                                                                  \n",
       "318                aenymann@outlook.com         Ann Nymann     31 2020-10-08\n",
       "46                 becca@jssmadison.org   Rebecca Schwartz     23 2020-10-08\n",
       "15                   jzboll@hotmail.com          Joan Boll     15 2020-09-23\n",
       "53          lseidl-gafner@reachdane.org  Lisa Siedl-Gafner     15 2020-10-27\n",
       "107                jettlie888@yahoo.com    Jonathan Ettlie     11 2020-09-24\n",
       "...                                 ...                ...    ...        ...\n",
       "378                 wkkwagner@gmail.com    KIMBERLY WAGNER      1 2020-09-23\n",
       "382                v.hokanson@gmail.com     Vicki Hokanson      1 2020-09-23\n",
       "386                 waunakeevet@tds.net        Karen Lange      1 2020-09-23\n",
       "51                   bsollenb@gmail.com  Brad Sollenberger      1 2020-09-23\n",
       "87                     kulaky@gmail.com  Patricia Garbarra      1 2020-10-05\n",
       "\n",
       "[116 rows x 4 columns]"
      ]
     },
     "execution_count": 57,
     "metadata": {},
     "output_type": "execute_result"
    }
   ],
   "source": [
    "week_opens.sort_values(by='Opens', ascending=False) # Sorts the data sets based on highest Open rates\n"
   ]
  },
  {
   "cell_type": "code",
   "execution_count": 58,
   "metadata": {},
   "outputs": [
    {
     "data": {
      "text/plain": [
       "count    116.000000\n",
       "mean       2.396552\n",
       "std        4.049432\n",
       "min        1.000000\n",
       "25%        1.000000\n",
       "50%        1.000000\n",
       "75%        2.000000\n",
       "max       31.000000\n",
       "Name: Opens, dtype: float64"
      ]
     },
     "execution_count": 58,
     "metadata": {},
     "output_type": "execute_result"
    }
   ],
   "source": [
    "week_opens['Opens'].describe()"
   ]
  },
  {
   "cell_type": "markdown",
   "metadata": {},
   "source": [
    "Daiper Awareness Week Metrics\n",
    "\n",
    "count    116.000000\n",
    "mean       2.396552\n",
    "std        4.049432\n",
    "min        1.000000\n",
    "25%        1.000000\n",
    "50%        1.000000\n",
    "75%        2.000000\n",
    "max       31.000000"
   ]
  },
  {
   "cell_type": "code",
   "execution_count": 59,
   "metadata": {},
   "outputs": [
    {
     "data": {
      "text/plain": [
       "Email\n",
       "seth@kilterrewards.com         1\n",
       "ashleylocke24@gmail.com        1\n",
       "Shrrodgers@yahoo.com           1\n",
       "troy@vosseller.com             1\n",
       "jettlie888@yahoo.com           1\n",
       "                              ..\n",
       "becca@jssmadison.org           1\n",
       "bsollenb@gmail.com             1\n",
       "lseidl-gafner@reachdane.org    1\n",
       "brickdeeproots@gmail.com       1\n",
       "kulaky@gmail.com               1\n",
       "Name: count, Length: 116, dtype: int64"
      ]
     },
     "execution_count": 59,
     "metadata": {},
     "output_type": "execute_result"
    }
   ],
   "source": [
    "week_opens[\"Email\"].value_counts(dropna=False)"
   ]
  },
  {
   "cell_type": "code",
   "execution_count": 60,
   "metadata": {},
   "outputs": [],
   "source": [
    "week_opens['Last Open'] = week_opens['Last Open'].dt.date # Removes the Hours, minutes, and seconds for column with dates\n"
   ]
  },
  {
   "cell_type": "code",
   "execution_count": 61,
   "metadata": {},
   "outputs": [],
   "source": [
    "last_open = week_opens.groupby(week_opens['Last Open'])['Opens'].sum() # Counts the open rates for each date"
   ]
  },
  {
   "cell_type": "code",
   "execution_count": 62,
   "metadata": {},
   "outputs": [
    {
     "data": {
      "image/png": "[encoded data removed]",
      "text/plain": [
       "<Figure size 1200x600 with 1 Axes>"
      ]
     },
     "metadata": {},
     "output_type": "display_data"
    }
   ],
   "source": [
    "plt.figure(figsize=(12, 6))\n",
    "last_open.plot(kind='bar', color='skyblue', edgecolor='black')\n",
    "plt.title('Number of Opens by Date (Diaper Awareness Campaign)')\n",
    "plt.xlabel('Last Open Date')\n",
    "plt.ylabel('Number of Opens')\n",
    "plt.yscale('log')\n",
    "plt.xticks(rotation=45, ha='right')  # Rotate x-axis labels for better readability\n",
    "plt.tight_layout()  # Adjust layout to prevent clipping of labels\n",
    "plt.grid(axis='y', linestyle='--')  # Optional: add a grid for better readability\n",
    "plt.show()\n"
   ]
  },
  {
   "cell_type": "code",
   "execution_count": null,
   "metadata": {},
   "outputs": [],
   "source": [
    "week_opens.to_csv('CleanedDonorDataSets/Week_Email_Metrics_Cleaned.csv', index = True)"
   ]
  },
  {
   "cell_type": "code",
   "execution_count": 64,
   "metadata": {},
   "outputs": [],
   "source": [
    "no_transaction = pd.read_csv(\"DonorDataSets/all_account_without_transactions .csv\", index_col=['Account ID'])"
   ]
  },
  {
   "cell_type": "code",
   "execution_count": 65,
   "metadata": {},
   "outputs": [
    {
     "data": {
      "text/plain": [
       "Index(['Account Type', 'Full Name (F)', 'Company Name',\n",
       "       'Full Street Address (F)', 'City', 'State/Province', 'Email 1',\n",
       "       'All Donation Amount', 'All Order Amount', 'All Registration Amount',\n",
       "       'Unnamed: 11'],\n",
       "      dtype='object')"
      ]
     },
     "execution_count": 65,
     "metadata": {},
     "output_type": "execute_result"
    }
   ],
   "source": [
    "no_transaction.columns"
   ]
  },
  {
   "cell_type": "code",
   "execution_count": 66,
   "metadata": {},
   "outputs": [],
   "source": [
    "no_transaction.drop(['Unnamed: 11'], axis = 1, inplace=True)\n"
   ]
  },
  {
   "cell_type": "code",
   "execution_count": 67,
   "metadata": {},
   "outputs": [
    {
     "data": {
      "text/plain": [
       "['Full Name (F)',\n",
       " 'Company Name',\n",
       " 'Full Street Address (F)',\n",
       " 'City',\n",
       " 'State/Province',\n",
       " 'Email 1']"
      ]
     },
     "execution_count": 67,
     "metadata": {},
     "output_type": "execute_result"
    }
   ],
   "source": [
    "no_transaction.columns[no_transaction.isna().any()].tolist()"
   ]
  },
  {
   "cell_type": "code",
   "execution_count": null,
   "metadata": {},
   "outputs": [
    {
     "data": {
      "text/plain": [
       "Account Type                0\n",
       "Full Name (F)               1\n",
       "Company Name               38\n",
       "Full Street Address (F)    12\n",
       "City                       12\n",
       "State/Province             12\n",
       "Email 1                     3\n",
       "All Donation Amount         0\n",
       "All Order Amount            0\n",
       "All Registration Amount     0\n",
       "dtype: int64"
      ]
     },
     "execution_count": 68,
     "metadata": {},
     "output_type": "execute_result"
    }
   ],
   "source": [
    "no_transaction.isna().sum()"
   ]
  },
  {
   "cell_type": "code",
   "execution_count": 69,
   "metadata": {},
   "outputs": [
    {
     "name": "stdout",
     "output_type": "stream",
     "text": [
      "Accounts in the Diaper Awareness Campaign who Opened the Links but haven't made Transaction\n"
     ]
    },
    {
     "data": {
      "text/html": [
       "<div>\n",
       "<style scoped>\n",
       "    .dataframe tbody tr th:only-of-type {\n",
       "        vertical-align: middle;\n",
       "    }\n",
       "\n",
       "    .dataframe tbody tr th {\n",
       "        vertical-align: top;\n",
       "    }\n",
       "\n",
       "    .dataframe thead th {\n",
       "        text-align: right;\n",
       "    }\n",
       "</style>\n",
       "<table border=\"1\" class=\"dataframe\">\n",
       "  <thead>\n",
       "    <tr style=\"text-align: right;\">\n",
       "      <th></th>\n",
       "      <th>Account ID</th>\n",
       "      <th>Email</th>\n",
       "      <th>Name</th>\n",
       "      <th>Opens</th>\n",
       "      <th>Last Open</th>\n",
       "    </tr>\n",
       "  </thead>\n",
       "  <tbody>\n",
       "    <tr>\n",
       "      <th>6</th>\n",
       "      <td>111</td>\n",
       "      <td>Limeandnavy@gmail.com</td>\n",
       "      <td>Abby Ehringer</td>\n",
       "      <td>1</td>\n",
       "      <td>2020-09-23</td>\n",
       "    </tr>\n",
       "    <tr>\n",
       "      <th>17</th>\n",
       "      <td>140</td>\n",
       "      <td>Katielim16@gmail.com</td>\n",
       "      <td>Katie Lim</td>\n",
       "      <td>2</td>\n",
       "      <td>2020-09-24</td>\n",
       "    </tr>\n",
       "    <tr>\n",
       "      <th>19</th>\n",
       "      <td>146</td>\n",
       "      <td>natalieaz9@gmail.com</td>\n",
       "      <td>Natalie Meyer</td>\n",
       "      <td>1</td>\n",
       "      <td>2020-09-23</td>\n",
       "    </tr>\n",
       "    <tr>\n",
       "      <th>21</th>\n",
       "      <td>151</td>\n",
       "      <td>amyg123@gmail.com</td>\n",
       "      <td>Amy Bass</td>\n",
       "      <td>1</td>\n",
       "      <td>2020-09-23</td>\n",
       "    </tr>\n",
       "    <tr>\n",
       "      <th>22</th>\n",
       "      <td>152</td>\n",
       "      <td>gamine417@hotmail.com</td>\n",
       "      <td>Lisa Williams</td>\n",
       "      <td>3</td>\n",
       "      <td>2020-09-24</td>\n",
       "    </tr>\n",
       "    <tr>\n",
       "      <th>23</th>\n",
       "      <td>161</td>\n",
       "      <td>badgergirl712@uwalumni.com</td>\n",
       "      <td>Kristen Vale</td>\n",
       "      <td>1</td>\n",
       "      <td>2020-09-23</td>\n",
       "    </tr>\n",
       "    <tr>\n",
       "      <th>24</th>\n",
       "      <td>164</td>\n",
       "      <td>candyralston@sbcglobal.net</td>\n",
       "      <td>Candy Pangan</td>\n",
       "      <td>1</td>\n",
       "      <td>2020-09-23</td>\n",
       "    </tr>\n",
       "    <tr>\n",
       "      <th>25</th>\n",
       "      <td>166</td>\n",
       "      <td>claire.tomm@gmail.com</td>\n",
       "      <td>Claire Tomm</td>\n",
       "      <td>1</td>\n",
       "      <td>2020-09-23</td>\n",
       "    </tr>\n",
       "    <tr>\n",
       "      <th>26</th>\n",
       "      <td>168</td>\n",
       "      <td>roxglick@gmail.com</td>\n",
       "      <td>Roxanne Glick</td>\n",
       "      <td>2</td>\n",
       "      <td>2020-09-23</td>\n",
       "    </tr>\n",
       "    <tr>\n",
       "      <th>51</th>\n",
       "      <td>250</td>\n",
       "      <td>emensamie@gmail.com</td>\n",
       "      <td>Amie Conley</td>\n",
       "      <td>1</td>\n",
       "      <td>2020-09-23</td>\n",
       "    </tr>\n",
       "    <tr>\n",
       "      <th>52</th>\n",
       "      <td>252</td>\n",
       "      <td>crabb.lindsey@gmail.com</td>\n",
       "      <td>Lindsey Crabb</td>\n",
       "      <td>1</td>\n",
       "      <td>2020-09-23</td>\n",
       "    </tr>\n",
       "    <tr>\n",
       "      <th>55</th>\n",
       "      <td>258</td>\n",
       "      <td>sag_redhead@yahoo.com</td>\n",
       "      <td>Laura Varriale</td>\n",
       "      <td>1</td>\n",
       "      <td>2020-09-23</td>\n",
       "    </tr>\n",
       "    <tr>\n",
       "      <th>57</th>\n",
       "      <td>275</td>\n",
       "      <td>allisonlynch23@gmail.com</td>\n",
       "      <td>Allison Lynch</td>\n",
       "      <td>3</td>\n",
       "      <td>2020-09-23</td>\n",
       "    </tr>\n",
       "    <tr>\n",
       "      <th>59</th>\n",
       "      <td>284</td>\n",
       "      <td>meghan.roh@gmail.com</td>\n",
       "      <td>Meghan Roh</td>\n",
       "      <td>1</td>\n",
       "      <td>2020-09-23</td>\n",
       "    </tr>\n",
       "    <tr>\n",
       "      <th>90</th>\n",
       "      <td>346</td>\n",
       "      <td>megan@danediapers.org</td>\n",
       "      <td>Megan Sollenberger</td>\n",
       "      <td>1</td>\n",
       "      <td>2020-09-23</td>\n",
       "    </tr>\n",
       "    <tr>\n",
       "      <th>111</th>\n",
       "      <td>46</td>\n",
       "      <td>becca@jssmadison.org</td>\n",
       "      <td>Rebecca Schwartz</td>\n",
       "      <td>23</td>\n",
       "      <td>2020-10-08</td>\n",
       "    </tr>\n",
       "  </tbody>\n",
       "</table>\n",
       "</div>"
      ],
      "text/plain": [
       "     Account ID                       Email                Name  Opens  \\\n",
       "6           111       Limeandnavy@gmail.com       Abby Ehringer      1   \n",
       "17          140        Katielim16@gmail.com           Katie Lim      2   \n",
       "19          146        natalieaz9@gmail.com       Natalie Meyer      1   \n",
       "21          151           amyg123@gmail.com            Amy Bass      1   \n",
       "22          152       gamine417@hotmail.com       Lisa Williams      3   \n",
       "23          161  badgergirl712@uwalumni.com        Kristen Vale      1   \n",
       "24          164  candyralston@sbcglobal.net        Candy Pangan      1   \n",
       "25          166       claire.tomm@gmail.com         Claire Tomm      1   \n",
       "26          168          roxglick@gmail.com       Roxanne Glick      2   \n",
       "51          250         emensamie@gmail.com         Amie Conley      1   \n",
       "52          252     crabb.lindsey@gmail.com       Lindsey Crabb      1   \n",
       "55          258       sag_redhead@yahoo.com      Laura Varriale      1   \n",
       "57          275    allisonlynch23@gmail.com       Allison Lynch      3   \n",
       "59          284        meghan.roh@gmail.com          Meghan Roh      1   \n",
       "90          346       megan@danediapers.org  Megan Sollenberger      1   \n",
       "111          46        becca@jssmadison.org    Rebecca Schwartz     23   \n",
       "\n",
       "      Last Open  \n",
       "6    2020-09-23  \n",
       "17   2020-09-24  \n",
       "19   2020-09-23  \n",
       "21   2020-09-23  \n",
       "22   2020-09-24  \n",
       "23   2020-09-23  \n",
       "24   2020-09-23  \n",
       "25   2020-09-23  \n",
       "26   2020-09-23  \n",
       "51   2020-09-23  \n",
       "52   2020-09-23  \n",
       "55   2020-09-23  \n",
       "57   2020-09-23  \n",
       "59   2020-09-23  \n",
       "90   2020-09-23  \n",
       "111  2020-10-08  "
      ]
     },
     "execution_count": 69,
     "metadata": {},
     "output_type": "execute_result"
    }
   ],
   "source": [
    "# Reset the index to treat Account ID as a column\n",
    "df1_reset = week_opens.reset_index()\n",
    "df2_reset = no_transaction.reset_index()\n",
    "\n",
    "clicks_but_no_transaction = df1_reset[(df1_reset['Name'].isin(df2_reset['Full Name (F)']))]\n",
    "clicks_but_no_transaction.set_index('Account ID')\n",
    "\n",
    "print(\"Accounts in the Diaper Awareness Campaign who Opened the Links but haven't made Transaction\")\n",
    "clicks_but_no_transaction"
   ]
  },
  {
   "cell_type": "markdown",
   "metadata": {},
   "source": [
    "Of the 116 people targeted by the diaper Awareness Campaign, 16 individuals have made no transactions at all when comparing with the “All Accounts Without Transaction” data set. These are the 16 users who got the links and even opened the links but haven’t made any transactions according to the ““All Accounts Without Transaction” data set."
   ]
  },
  {
   "cell_type": "code",
   "execution_count": 70,
   "metadata": {},
   "outputs": [
    {
     "data": {
      "text/plain": [
       "16"
      ]
     },
     "execution_count": 70,
     "metadata": {},
     "output_type": "execute_result"
    }
   ],
   "source": [
    "clicks_but_no_transaction['Name'].size # checks number of individuals in the given column"
   ]
  },
  {
   "cell_type": "code",
   "execution_count": 71,
   "metadata": {},
   "outputs": [
    {
     "data": {
      "text/plain": [
       "116"
      ]
     },
     "execution_count": 71,
     "metadata": {},
     "output_type": "execute_result"
    }
   ],
   "source": [
    "week_opens['Name'].size"
   ]
  },
  {
   "cell_type": "code",
   "execution_count": 72,
   "metadata": {},
   "outputs": [
    {
     "data": {
      "text/plain": [
       "count    16.000000\n",
       "mean      2.750000\n",
       "std       5.446712\n",
       "min       1.000000\n",
       "25%       1.000000\n",
       "50%       1.000000\n",
       "75%       2.000000\n",
       "max      23.000000\n",
       "Name: Opens, dtype: float64"
      ]
     },
     "execution_count": 72,
     "metadata": {},
     "output_type": "execute_result"
    }
   ],
   "source": [
    "clicks_but_no_transaction['Opens'].describe()"
   ]
  },
  {
   "cell_type": "markdown",
   "metadata": {},
   "source": [
    "Clicks But No Donation\n",
    "\n",
    "count    16.000000\n",
    "mean      2.750000\n",
    "std       5.446712\n",
    "min       1.000000\n",
    "25%       1.000000\n",
    "50%       1.000000\n",
    "75%       2.000000\n",
    "max      23.000000\n"
   ]
  },
  {
   "cell_type": "code",
   "execution_count": 73,
   "metadata": {},
   "outputs": [],
   "source": [
    "clicks_with_transaction = df1_reset[~(df1_reset['Name'].isin(df2_reset['Full Name (F)']))]\n",
    "clicks_with_transaction.set_index('Account ID', inplace=True)"
   ]
  },
  {
   "cell_type": "code",
   "execution_count": 74,
   "metadata": {},
   "outputs": [
    {
     "name": "stdout",
     "output_type": "stream",
     "text": [
      "Clicks With Transaction\n"
     ]
    },
    {
     "data": {
      "text/html": [
       "<div>\n",
       "<style scoped>\n",
       "    .dataframe tbody tr th:only-of-type {\n",
       "        vertical-align: middle;\n",
       "    }\n",
       "\n",
       "    .dataframe tbody tr th {\n",
       "        vertical-align: top;\n",
       "    }\n",
       "\n",
       "    .dataframe thead th {\n",
       "        text-align: right;\n",
       "    }\n",
       "</style>\n",
       "<table border=\"1\" class=\"dataframe\">\n",
       "  <thead>\n",
       "    <tr style=\"text-align: right;\">\n",
       "      <th></th>\n",
       "      <th>Email</th>\n",
       "      <th>Name</th>\n",
       "      <th>Opens</th>\n",
       "      <th>Last Open</th>\n",
       "    </tr>\n",
       "    <tr>\n",
       "      <th>Account ID</th>\n",
       "      <th></th>\n",
       "      <th></th>\n",
       "      <th></th>\n",
       "      <th></th>\n",
       "    </tr>\n",
       "  </thead>\n",
       "  <tbody>\n",
       "    <tr>\n",
       "      <th>318</th>\n",
       "      <td>aenymann@outlook.com</td>\n",
       "      <td>Ann Nymann</td>\n",
       "      <td>31</td>\n",
       "      <td>2020-10-08</td>\n",
       "    </tr>\n",
       "    <tr>\n",
       "      <th>15</th>\n",
       "      <td>jzboll@hotmail.com</td>\n",
       "      <td>Joan Boll</td>\n",
       "      <td>15</td>\n",
       "      <td>2020-09-23</td>\n",
       "    </tr>\n",
       "    <tr>\n",
       "      <th>53</th>\n",
       "      <td>lseidl-gafner@reachdane.org</td>\n",
       "      <td>Lisa Siedl-Gafner</td>\n",
       "      <td>15</td>\n",
       "      <td>2020-10-27</td>\n",
       "    </tr>\n",
       "    <tr>\n",
       "      <th>107</th>\n",
       "      <td>jettlie888@yahoo.com</td>\n",
       "      <td>Jonathan Ettlie</td>\n",
       "      <td>11</td>\n",
       "      <td>2020-09-24</td>\n",
       "    </tr>\n",
       "    <tr>\n",
       "      <th>345</th>\n",
       "      <td>gandkcherry@outlook.com</td>\n",
       "      <td>Kathy Cherry</td>\n",
       "      <td>8</td>\n",
       "      <td>2020-09-23</td>\n",
       "    </tr>\n",
       "    <tr>\n",
       "      <th>...</th>\n",
       "      <td>...</td>\n",
       "      <td>...</td>\n",
       "      <td>...</td>\n",
       "      <td>...</td>\n",
       "    </tr>\n",
       "    <tr>\n",
       "      <th>381</th>\n",
       "      <td>breunigkasey@gmail.com</td>\n",
       "      <td>Kasey Breunig</td>\n",
       "      <td>1</td>\n",
       "      <td>2020-10-05</td>\n",
       "    </tr>\n",
       "    <tr>\n",
       "      <th>386</th>\n",
       "      <td>waunakeevet@tds.net</td>\n",
       "      <td>Karen Lange</td>\n",
       "      <td>1</td>\n",
       "      <td>2020-09-23</td>\n",
       "    </tr>\n",
       "    <tr>\n",
       "      <th>382</th>\n",
       "      <td>v.hokanson@gmail.com</td>\n",
       "      <td>Vicki Hokanson</td>\n",
       "      <td>1</td>\n",
       "      <td>2020-09-23</td>\n",
       "    </tr>\n",
       "    <tr>\n",
       "      <th>51</th>\n",
       "      <td>bsollenb@gmail.com</td>\n",
       "      <td>Brad Sollenberger</td>\n",
       "      <td>1</td>\n",
       "      <td>2020-09-23</td>\n",
       "    </tr>\n",
       "    <tr>\n",
       "      <th>87</th>\n",
       "      <td>kulaky@gmail.com</td>\n",
       "      <td>Patricia Garbarra</td>\n",
       "      <td>1</td>\n",
       "      <td>2020-10-05</td>\n",
       "    </tr>\n",
       "  </tbody>\n",
       "</table>\n",
       "<p>100 rows × 4 columns</p>\n",
       "</div>"
      ],
      "text/plain": [
       "                                  Email               Name  Opens   Last Open\n",
       "Account ID                                                                   \n",
       "318                aenymann@outlook.com         Ann Nymann     31  2020-10-08\n",
       "15                   jzboll@hotmail.com          Joan Boll     15  2020-09-23\n",
       "53          lseidl-gafner@reachdane.org  Lisa Siedl-Gafner     15  2020-10-27\n",
       "107                jettlie888@yahoo.com    Jonathan Ettlie     11  2020-09-24\n",
       "345             gandkcherry@outlook.com       Kathy Cherry      8  2020-09-23\n",
       "...                                 ...                ...    ...         ...\n",
       "381              breunigkasey@gmail.com      Kasey Breunig      1  2020-10-05\n",
       "386                 waunakeevet@tds.net        Karen Lange      1  2020-09-23\n",
       "382                v.hokanson@gmail.com     Vicki Hokanson      1  2020-09-23\n",
       "51                   bsollenb@gmail.com  Brad Sollenberger      1  2020-09-23\n",
       "87                     kulaky@gmail.com  Patricia Garbarra      1  2020-10-05\n",
       "\n",
       "[100 rows x 4 columns]"
      ]
     },
     "execution_count": 74,
     "metadata": {},
     "output_type": "execute_result"
    }
   ],
   "source": [
    "print('Clicks With Transaction')\n",
    "clicks_with_transaction.sort_values(by= 'Opens', ascending=False)"
   ]
  },
  {
   "cell_type": "markdown",
   "metadata": {},
   "source": [
    "\n",
    "100 of the remaining individuals have made some form of donation before; however, we can not conclude the causality from this to establish the effectiveness of the diaper awareness campaign. For that, we were hoping to tally the date when the link was last clicked and compare that date  with the All Donors data set; however, the all donor data set has no timestamp; so there is no way of knowing if these 100 donors were affected by the diaper awareness campaign."
   ]
  },
  {
   "cell_type": "code",
   "execution_count": 75,
   "metadata": {},
   "outputs": [
    {
     "data": {
      "text/plain": [
       "100"
      ]
     },
     "execution_count": 75,
     "metadata": {},
     "output_type": "execute_result"
    }
   ],
   "source": [
    "clicks_with_transaction['Name'].size"
   ]
  },
  {
   "cell_type": "code",
   "execution_count": 76,
   "metadata": {},
   "outputs": [
    {
     "data": {
      "text/plain": [
       "count    100.000000\n",
       "mean       2.340000\n",
       "std        3.811784\n",
       "min        1.000000\n",
       "25%        1.000000\n",
       "50%        1.000000\n",
       "75%        2.000000\n",
       "max       31.000000\n",
       "Name: Opens, dtype: float64"
      ]
     },
     "execution_count": 76,
     "metadata": {},
     "output_type": "execute_result"
    }
   ],
   "source": [
    "clicks_with_transaction['Opens'].describe()"
   ]
  },
  {
   "cell_type": "markdown",
   "metadata": {},
   "source": [
    "Clicks With Transactions\n",
    "\n",
    "count    100.000000\n",
    "mean       2.340000\n",
    "std        3.811784\n",
    "min        1.000000\n",
    "25%        1.000000\n",
    "50%        1.000000\n",
    "75%        2.000000\n",
    "max       31.000000"
   ]
  },
  {
   "cell_type": "code",
   "execution_count": 77,
   "metadata": {},
   "outputs": [],
   "source": [
    "recurringData = pd.read_csv(\"CleanedDonorDataSets/recurringDataCleaned.csv\", index_col=['Account ID'])"
   ]
  },
  {
   "cell_type": "code",
   "execution_count": 78,
   "metadata": {},
   "outputs": [
    {
     "data": {
      "text/html": [
       "<div>\n",
       "<style scoped>\n",
       "    .dataframe tbody tr th:only-of-type {\n",
       "        vertical-align: middle;\n",
       "    }\n",
       "\n",
       "    .dataframe tbody tr th {\n",
       "        vertical-align: top;\n",
       "    }\n",
       "\n",
       "    .dataframe thead th {\n",
       "        text-align: right;\n",
       "    }\n",
       "</style>\n",
       "<table border=\"1\" class=\"dataframe\">\n",
       "  <thead>\n",
       "    <tr style=\"text-align: right;\">\n",
       "      <th></th>\n",
       "      <th>Recurring Donation ID</th>\n",
       "      <th>Recurring Donation Amount</th>\n",
       "      <th>Recurring Donation Interval</th>\n",
       "      <th>Recurring Donation Next Payment Date</th>\n",
       "      <th>Total Amount</th>\n",
       "      <th>Donation Count</th>\n",
       "      <th>Full Name (F)</th>\n",
       "    </tr>\n",
       "    <tr>\n",
       "      <th>Account ID</th>\n",
       "      <th></th>\n",
       "      <th></th>\n",
       "      <th></th>\n",
       "      <th></th>\n",
       "      <th></th>\n",
       "      <th></th>\n",
       "      <th></th>\n",
       "    </tr>\n",
       "  </thead>\n",
       "  <tbody>\n",
       "    <tr>\n",
       "      <th>78</th>\n",
       "      <td>43</td>\n",
       "      <td>200.0</td>\n",
       "      <td>1</td>\n",
       "      <td>10/23/2024</td>\n",
       "      <td>4000.00</td>\n",
       "      <td>20</td>\n",
       "      <td>Donna Sollenberger</td>\n",
       "    </tr>\n",
       "    <tr>\n",
       "      <th>2632</th>\n",
       "      <td>30</td>\n",
       "      <td>100.0</td>\n",
       "      <td>1</td>\n",
       "      <td>11/10/2024</td>\n",
       "      <td>3522.40</td>\n",
       "      <td>34</td>\n",
       "      <td>William Janson</td>\n",
       "    </tr>\n",
       "    <tr>\n",
       "      <th>2505</th>\n",
       "      <td>53</td>\n",
       "      <td>100.0</td>\n",
       "      <td>1</td>\n",
       "      <td>11/12/2024</td>\n",
       "      <td>207.20</td>\n",
       "      <td>2</td>\n",
       "      <td>Chris &amp; Amy Guthrie</td>\n",
       "    </tr>\n",
       "    <tr>\n",
       "      <th>5853</th>\n",
       "      <td>45</td>\n",
       "      <td>100.0</td>\n",
       "      <td>1</td>\n",
       "      <td>11/19/2024</td>\n",
       "      <td>1431.78</td>\n",
       "      <td>14</td>\n",
       "      <td>Barbara Ingham</td>\n",
       "    </tr>\n",
       "    <tr>\n",
       "      <th>1175</th>\n",
       "      <td>49</td>\n",
       "      <td>100.0</td>\n",
       "      <td>1</td>\n",
       "      <td>11/22/2024</td>\n",
       "      <td>942.21</td>\n",
       "      <td>9</td>\n",
       "      <td>Jenny Badreddine</td>\n",
       "    </tr>\n",
       "    <tr>\n",
       "      <th>2505</th>\n",
       "      <td>27</td>\n",
       "      <td>100.0</td>\n",
       "      <td>1</td>\n",
       "      <td>11/12/2024</td>\n",
       "      <td>3729.60</td>\n",
       "      <td>36</td>\n",
       "      <td>Chris &amp; Amy Guthrie</td>\n",
       "    </tr>\n",
       "    <tr>\n",
       "      <th>2849</th>\n",
       "      <td>34</td>\n",
       "      <td>75.0</td>\n",
       "      <td>3</td>\n",
       "      <td>11/20/2024</td>\n",
       "      <td>856.46</td>\n",
       "      <td>11</td>\n",
       "      <td>Susan Lutter</td>\n",
       "    </tr>\n",
       "    <tr>\n",
       "      <th>2507</th>\n",
       "      <td>26</td>\n",
       "      <td>50.0</td>\n",
       "      <td>1</td>\n",
       "      <td>11/21/2024</td>\n",
       "      <td>2310.00</td>\n",
       "      <td>44</td>\n",
       "      <td>Elizabeth Ireland</td>\n",
       "    </tr>\n",
       "    <tr>\n",
       "      <th>2613</th>\n",
       "      <td>29</td>\n",
       "      <td>50.0</td>\n",
       "      <td>1</td>\n",
       "      <td>11/12/2024</td>\n",
       "      <td>1820.35</td>\n",
       "      <td>35</td>\n",
       "      <td>Amanda Weppler Ansel</td>\n",
       "    </tr>\n",
       "    <tr>\n",
       "      <th>5863</th>\n",
       "      <td>46</td>\n",
       "      <td>50.0</td>\n",
       "      <td>1</td>\n",
       "      <td>11/14/2024</td>\n",
       "      <td>676.13</td>\n",
       "      <td>13</td>\n",
       "      <td>Caleb Cox</td>\n",
       "    </tr>\n",
       "  </tbody>\n",
       "</table>\n",
       "</div>"
      ],
      "text/plain": [
       "            Recurring Donation ID  Recurring Donation Amount  \\\n",
       "Account ID                                                     \n",
       "78                             43                      200.0   \n",
       "2632                           30                      100.0   \n",
       "2505                           53                      100.0   \n",
       "5853                           45                      100.0   \n",
       "1175                           49                      100.0   \n",
       "2505                           27                      100.0   \n",
       "2849                           34                       75.0   \n",
       "2507                           26                       50.0   \n",
       "2613                           29                       50.0   \n",
       "5863                           46                       50.0   \n",
       "\n",
       "            Recurring Donation Interval Recurring Donation Next Payment Date  \\\n",
       "Account ID                                                                     \n",
       "78                                    1                           10/23/2024   \n",
       "2632                                  1                           11/10/2024   \n",
       "2505                                  1                           11/12/2024   \n",
       "5853                                  1                           11/19/2024   \n",
       "1175                                  1                           11/22/2024   \n",
       "2505                                  1                           11/12/2024   \n",
       "2849                                  3                           11/20/2024   \n",
       "2507                                  1                           11/21/2024   \n",
       "2613                                  1                           11/12/2024   \n",
       "5863                                  1                           11/14/2024   \n",
       "\n",
       "            Total Amount  Donation Count         Full Name (F)  \n",
       "Account ID                                                      \n",
       "78               4000.00              20    Donna Sollenberger  \n",
       "2632             3522.40              34        William Janson  \n",
       "2505              207.20               2   Chris & Amy Guthrie  \n",
       "5853             1431.78              14        Barbara Ingham  \n",
       "1175              942.21               9      Jenny Badreddine  \n",
       "2505             3729.60              36   Chris & Amy Guthrie  \n",
       "2849              856.46              11          Susan Lutter  \n",
       "2507             2310.00              44     Elizabeth Ireland  \n",
       "2613             1820.35              35  Amanda Weppler Ansel  \n",
       "5863              676.13              13             Caleb Cox  "
      ]
     },
     "execution_count": 78,
     "metadata": {},
     "output_type": "execute_result"
    }
   ],
   "source": [
    "recurringData.head(10)"
   ]
  },
  {
   "cell_type": "code",
   "execution_count": 79,
   "metadata": {},
   "outputs": [
    {
     "name": "stdout",
     "output_type": "stream",
     "text": [
      "Recurring Donors from the Diaper Awareness Campaign\n"
     ]
    },
    {
     "data": {
      "text/html": [
       "<div>\n",
       "<style scoped>\n",
       "    .dataframe tbody tr th:only-of-type {\n",
       "        vertical-align: middle;\n",
       "    }\n",
       "\n",
       "    .dataframe tbody tr th {\n",
       "        vertical-align: top;\n",
       "    }\n",
       "\n",
       "    .dataframe thead th {\n",
       "        text-align: right;\n",
       "    }\n",
       "</style>\n",
       "<table border=\"1\" class=\"dataframe\">\n",
       "  <thead>\n",
       "    <tr style=\"text-align: right;\">\n",
       "      <th></th>\n",
       "      <th>Recurring Donation ID</th>\n",
       "      <th>Recurring Donation Amount</th>\n",
       "      <th>Recurring Donation Interval</th>\n",
       "      <th>Recurring Donation Next Payment Date</th>\n",
       "      <th>Total Amount</th>\n",
       "      <th>Donation Count</th>\n",
       "      <th>Full Name (F)</th>\n",
       "    </tr>\n",
       "    <tr>\n",
       "      <th>Account ID</th>\n",
       "      <th></th>\n",
       "      <th></th>\n",
       "      <th></th>\n",
       "      <th></th>\n",
       "      <th></th>\n",
       "      <th></th>\n",
       "      <th></th>\n",
       "    </tr>\n",
       "  </thead>\n",
       "  <tbody>\n",
       "    <tr>\n",
       "      <th>78</th>\n",
       "      <td>43</td>\n",
       "      <td>200.0</td>\n",
       "      <td>1</td>\n",
       "      <td>10/23/2024</td>\n",
       "      <td>4000.00</td>\n",
       "      <td>20</td>\n",
       "      <td>Donna Sollenberger</td>\n",
       "    </tr>\n",
       "    <tr>\n",
       "      <th>316</th>\n",
       "      <td>8</td>\n",
       "      <td>25.0</td>\n",
       "      <td>1</td>\n",
       "      <td>11/10/2024</td>\n",
       "      <td>1275.00</td>\n",
       "      <td>51</td>\n",
       "      <td>Holly Lyon</td>\n",
       "    </tr>\n",
       "    <tr>\n",
       "      <th>225</th>\n",
       "      <td>28</td>\n",
       "      <td>25.0</td>\n",
       "      <td>1</td>\n",
       "      <td>11/07/2024</td>\n",
       "      <td>914.55</td>\n",
       "      <td>35</td>\n",
       "      <td>Amanda Stein</td>\n",
       "    </tr>\n",
       "    <tr>\n",
       "      <th>102</th>\n",
       "      <td>1</td>\n",
       "      <td>12.0</td>\n",
       "      <td>1</td>\n",
       "      <td>11/11/2024</td>\n",
       "      <td>804.00</td>\n",
       "      <td>67</td>\n",
       "      <td>Ashley Locke</td>\n",
       "    </tr>\n",
       "    <tr>\n",
       "      <th>321</th>\n",
       "      <td>9</td>\n",
       "      <td>12.0</td>\n",
       "      <td>1</td>\n",
       "      <td>11/10/2024</td>\n",
       "      <td>682.38</td>\n",
       "      <td>51</td>\n",
       "      <td>Lisa Olmsted</td>\n",
       "    </tr>\n",
       "    <tr>\n",
       "      <th>337</th>\n",
       "      <td>11</td>\n",
       "      <td>12.0</td>\n",
       "      <td>1</td>\n",
       "      <td>11/11/2024</td>\n",
       "      <td>648.21</td>\n",
       "      <td>51</td>\n",
       "      <td>Jonathon Vinje</td>\n",
       "    </tr>\n",
       "  </tbody>\n",
       "</table>\n",
       "</div>"
      ],
      "text/plain": [
       "            Recurring Donation ID  Recurring Donation Amount  \\\n",
       "Account ID                                                     \n",
       "78                             43                      200.0   \n",
       "316                             8                       25.0   \n",
       "225                            28                       25.0   \n",
       "102                             1                       12.0   \n",
       "321                             9                       12.0   \n",
       "337                            11                       12.0   \n",
       "\n",
       "            Recurring Donation Interval Recurring Donation Next Payment Date  \\\n",
       "Account ID                                                                     \n",
       "78                                    1                           10/23/2024   \n",
       "316                                   1                           11/10/2024   \n",
       "225                                   1                           11/07/2024   \n",
       "102                                   1                           11/11/2024   \n",
       "321                                   1                           11/10/2024   \n",
       "337                                   1                           11/11/2024   \n",
       "\n",
       "            Total Amount  Donation Count       Full Name (F)  \n",
       "Account ID                                                    \n",
       "78               4000.00              20  Donna Sollenberger  \n",
       "316              1275.00              51          Holly Lyon  \n",
       "225               914.55              35        Amanda Stein  \n",
       "102               804.00              67        Ashley Locke  \n",
       "321               682.38              51        Lisa Olmsted  \n",
       "337               648.21              51      Jonathon Vinje  "
      ]
     },
     "execution_count": 79,
     "metadata": {},
     "output_type": "execute_result"
    }
   ],
   "source": [
    "recurring_from_clicks = recurringData[(recurringData['Full Name (F)'].isin(clicks_with_transaction['Name']))]\n",
    "\n",
    "print('Recurring Donors from the Diaper Awareness Campaign')\n",
    "recurring_from_clicks"
   ]
  },
  {
   "cell_type": "markdown",
   "metadata": {},
   "source": [
    "Among the 100 donors who have made transactions and were targeted by the awareness campaign, 6 of the individuals were identified as recurring donors with some of the highest donations amounts in the past.\n",
    "\n",
    "However, without a timestamp to compare when the donations were actually made in reference to the Diaper Awareness Data set, it remains unclear if their continued contributions were influenced by the campaign.\n"
   ]
  },
  {
   "cell_type": "code",
   "execution_count": 80,
   "metadata": {},
   "outputs": [
    {
     "data": {
      "text/plain": [
       "6"
      ]
     },
     "execution_count": 80,
     "metadata": {},
     "output_type": "execute_result"
    }
   ],
   "source": [
    "recurring_from_clicks['Full Name (F)'].size"
   ]
  },
  {
   "cell_type": "code",
   "execution_count": 81,
   "metadata": {},
   "outputs": [],
   "source": [
    "allDonorsClean = pd.read_csv('CleanedDonorDataSets/allDonorsClean.csv',index_col=['Account ID'])"
   ]
  },
  {
   "cell_type": "code",
   "execution_count": 82,
   "metadata": {},
   "outputs": [],
   "source": [
    "df3_reset = allDonorsClean.reset_index()\n",
    "df4_reset = no_transaction.reset_index()\n",
    "\n",
    "irregularity = df3_reset[(df3_reset['Full Name (F)'].isin(df4_reset['Full Name (F)']))] # Checks for overlap between data sets\n"
   ]
  },
  {
   "cell_type": "code",
   "execution_count": 83,
   "metadata": {},
   "outputs": [
    {
     "data": {
      "text/html": [
       "<div>\n",
       "<style scoped>\n",
       "    .dataframe tbody tr th:only-of-type {\n",
       "        vertical-align: middle;\n",
       "    }\n",
       "\n",
       "    .dataframe tbody tr th {\n",
       "        vertical-align: top;\n",
       "    }\n",
       "\n",
       "    .dataframe thead th {\n",
       "        text-align: right;\n",
       "    }\n",
       "</style>\n",
       "<table border=\"1\" class=\"dataframe\">\n",
       "  <thead>\n",
       "    <tr style=\"text-align: right;\">\n",
       "      <th></th>\n",
       "      <th>Account Type</th>\n",
       "      <th>Full Name (F)</th>\n",
       "      <th>Company Name</th>\n",
       "      <th>City</th>\n",
       "      <th>State/Province</th>\n",
       "      <th>Zip Code</th>\n",
       "      <th>Largest Donation Amount</th>\n",
       "    </tr>\n",
       "    <tr>\n",
       "      <th>Account ID</th>\n",
       "      <th></th>\n",
       "      <th></th>\n",
       "      <th></th>\n",
       "      <th></th>\n",
       "      <th></th>\n",
       "      <th></th>\n",
       "      <th></th>\n",
       "    </tr>\n",
       "  </thead>\n",
       "  <tbody>\n",
       "    <tr>\n",
       "      <th>4286</th>\n",
       "      <td>Individual</td>\n",
       "      <td>Megan Sollenberger</td>\n",
       "      <td>Epic</td>\n",
       "      <td>Verona</td>\n",
       "      <td>WI</td>\n",
       "      <td>53593</td>\n",
       "      <td>10000.00</td>\n",
       "    </tr>\n",
       "    <tr>\n",
       "      <th>346</th>\n",
       "      <td>Individual</td>\n",
       "      <td>Megan Sollenberger</td>\n",
       "      <td>DCDB</td>\n",
       "      <td>Verona</td>\n",
       "      <td>WI</td>\n",
       "      <td>53593</td>\n",
       "      <td>12.67</td>\n",
       "    </tr>\n",
       "    <tr>\n",
       "      <th>4295</th>\n",
       "      <td>Individual</td>\n",
       "      <td>Megan Sollenberger</td>\n",
       "      <td>Roots &amp; Wings Foundation</td>\n",
       "      <td>Madison</td>\n",
       "      <td>WI</td>\n",
       "      <td>53718</td>\n",
       "      <td>30000.00</td>\n",
       "    </tr>\n",
       "    <tr>\n",
       "      <th>4298</th>\n",
       "      <td>Individual</td>\n",
       "      <td>Megan Sollenberger</td>\n",
       "      <td>Madison Gas &amp; Electric</td>\n",
       "      <td>Madison</td>\n",
       "      <td>WI</td>\n",
       "      <td>53718</td>\n",
       "      <td>5000.00</td>\n",
       "    </tr>\n",
       "    <tr>\n",
       "      <th>4300</th>\n",
       "      <td>Individual</td>\n",
       "      <td>Megan Sollenberger</td>\n",
       "      <td>CI Pediatric Therapy Centers</td>\n",
       "      <td>Madison</td>\n",
       "      <td>WI</td>\n",
       "      <td>53718</td>\n",
       "      <td>1000.00</td>\n",
       "    </tr>\n",
       "  </tbody>\n",
       "</table>\n",
       "</div>"
      ],
      "text/plain": [
       "           Account Type       Full Name (F)                  Company Name  \\\n",
       "Account ID                                                                  \n",
       "4286         Individual  Megan Sollenberger                          Epic   \n",
       "346          Individual  Megan Sollenberger                          DCDB   \n",
       "4295         Individual  Megan Sollenberger      Roots & Wings Foundation   \n",
       "4298         Individual  Megan Sollenberger        Madison Gas & Electric   \n",
       "4300         Individual  Megan Sollenberger  CI Pediatric Therapy Centers   \n",
       "\n",
       "               City State/Province Zip Code  Largest Donation Amount  \n",
       "Account ID                                                            \n",
       "4286         Verona             WI    53593                 10000.00  \n",
       "346          Verona             WI    53593                    12.67  \n",
       "4295        Madison             WI    53718                 30000.00  \n",
       "4298        Madison             WI    53718                  5000.00  \n",
       "4300        Madison             WI    53718                  1000.00  "
      ]
     },
     "execution_count": 83,
     "metadata": {},
     "output_type": "execute_result"
    }
   ],
   "source": [
    "irregularity.set_index('Account ID')"
   ]
  },
  {
   "cell_type": "markdown",
   "metadata": {},
   "source": [
    "There is an irregularity we noticed. The individual named Megan with Account ID 346 appears both in the “All Accounts Without Transaction” data set and “All Donors” data set and has made previous donation."
   ]
  }
 ],
 "metadata": {
  "kernelspec": {
   "display_name": "myenv",
   "language": "python",
   "name": "python3"
  },
  "language_info": {
   "codemirror_mode": {
    "name": "ipython",
    "version": 3
   },
   "file_extension": ".py",
   "mimetype": "text/x-python",
   "name": "python",
   "nbconvert_exporter": "python",
   "pygments_lexer": "ipython3",
   "version": "3.11.9"
  }
 },
 "nbformat": 4,
 "nbformat_minor": 2
}
