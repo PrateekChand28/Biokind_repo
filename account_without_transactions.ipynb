{
 "cells": [
  {
   "cell_type": "code",
   "execution_count": null,
   "metadata": {},
   "outputs": [],
   "source": [
    "import pandas as pd\n",
    "import numpy as np\n",
    "import matplotlib.pyplot as plt\n",
    "import seaborn\n",
    "import pprint\n",
    "\n",
    "plt.style.use('seaborn-v0_8-paper')"
   ]
  },
  {
   "cell_type": "code",
   "execution_count": 2,
   "metadata": {},
   "outputs": [],
   "source": [
    "no_tranaction = pd.read_csv(\"all_account_without_transactions .csv\", index_col=['Account ID'])"
   ]
  },
  {
   "cell_type": "code",
   "execution_count": 4,
   "metadata": {},
   "outputs": [
    {
     "data": {
      "text/plain": [
       "Account Type                object\n",
       "Full Name (F)               object\n",
       "Company Name                object\n",
       "Full Street Address (F)     object\n",
       "City                        object\n",
       "State/Province              object\n",
       "Email 1                     object\n",
       "All Donation Amount        float64\n",
       "All Order Amount           float64\n",
       "All Registration Amount    float64\n",
       "Unnamed: 11                float64\n",
       "dtype: object"
      ]
     },
     "execution_count": 4,
     "metadata": {},
     "output_type": "execute_result"
    }
   ],
   "source": [
    "no_tranaction.dtypes\n"
   ]
  },
  {
   "cell_type": "code",
   "execution_count": 6,
   "metadata": {},
   "outputs": [],
   "source": [
    "no_tranaction.drop(['Unnamed: 11'], axis = 1, inplace=True)"
   ]
  },
  {
   "cell_type": "code",
   "execution_count": 7,
   "metadata": {},
   "outputs": [
    {
     "data": {
      "text/plain": [
       "Index(['Account Type', 'Full Name (F)', 'Company Name',\n",
       "       'Full Street Address (F)', 'City', 'State/Province', 'Email 1',\n",
       "       'All Donation Amount', 'All Order Amount', 'All Registration Amount'],\n",
       "      dtype='object')"
      ]
     },
     "execution_count": 7,
     "metadata": {},
     "output_type": "execute_result"
    }
   ],
   "source": [
    "no_tranaction.columns"
   ]
  },
  {
   "cell_type": "code",
   "execution_count": 10,
   "metadata": {},
   "outputs": [
    {
     "data": {
      "text/html": [
       "<div>\n",
       "<style scoped>\n",
       "    .dataframe tbody tr th:only-of-type {\n",
       "        vertical-align: middle;\n",
       "    }\n",
       "\n",
       "    .dataframe tbody tr th {\n",
       "        vertical-align: top;\n",
       "    }\n",
       "\n",
       "    .dataframe thead th {\n",
       "        text-align: right;\n",
       "    }\n",
       "</style>\n",
       "<table border=\"1\" class=\"dataframe\">\n",
       "  <thead>\n",
       "    <tr style=\"text-align: right;\">\n",
       "      <th></th>\n",
       "      <th>Account Type</th>\n",
       "      <th>Full Name (F)</th>\n",
       "      <th>Company Name</th>\n",
       "      <th>Full Street Address (F)</th>\n",
       "      <th>City</th>\n",
       "      <th>State/Province</th>\n",
       "      <th>Email 1</th>\n",
       "      <th>All Donation Amount</th>\n",
       "      <th>All Order Amount</th>\n",
       "      <th>All Registration Amount</th>\n",
       "    </tr>\n",
       "    <tr>\n",
       "      <th>Account ID</th>\n",
       "      <th></th>\n",
       "      <th></th>\n",
       "      <th></th>\n",
       "      <th></th>\n",
       "      <th></th>\n",
       "      <th></th>\n",
       "      <th></th>\n",
       "      <th></th>\n",
       "      <th></th>\n",
       "      <th></th>\n",
       "    </tr>\n",
       "  </thead>\n",
       "  <tbody>\n",
       "    <tr>\n",
       "      <th>6</th>\n",
       "      <td>Company</td>\n",
       "      <td>NaN</td>\n",
       "      <td>Miller and Sons</td>\n",
       "      <td>NaN</td>\n",
       "      <td>NaN</td>\n",
       "      <td>NaN</td>\n",
       "      <td>NaN</td>\n",
       "      <td>0.0</td>\n",
       "      <td>0.0</td>\n",
       "      <td>0.0</td>\n",
       "    </tr>\n",
       "    <tr>\n",
       "      <th>262</th>\n",
       "      <td>Individual</td>\n",
       "      <td>Carly Barber-Callaghan</td>\n",
       "      <td>NaN</td>\n",
       "      <td>5901 Malabar Lane</td>\n",
       "      <td>Madison</td>\n",
       "      <td>WI</td>\n",
       "      <td>carlymmccabe@gmail.com</td>\n",
       "      <td>0.0</td>\n",
       "      <td>0.0</td>\n",
       "      <td>0.0</td>\n",
       "    </tr>\n",
       "    <tr>\n",
       "      <th>151</th>\n",
       "      <td>Individual</td>\n",
       "      <td>Amy Bass</td>\n",
       "      <td>NaN</td>\n",
       "      <td>6125 Roseberg Rd</td>\n",
       "      <td>Madison</td>\n",
       "      <td>WI</td>\n",
       "      <td>amyg123@gmail.com</td>\n",
       "      <td>0.0</td>\n",
       "      <td>0.0</td>\n",
       "      <td>0.0</td>\n",
       "    </tr>\n",
       "    <tr>\n",
       "      <th>5944</th>\n",
       "      <td>Individual</td>\n",
       "      <td>Mitch Brey</td>\n",
       "      <td>The Dawe Charitable Foundation</td>\n",
       "      <td>NaN</td>\n",
       "      <td>NaN</td>\n",
       "      <td>NaN</td>\n",
       "      <td>mitchbrey@gmail.com</td>\n",
       "      <td>0.0</td>\n",
       "      <td>0.0</td>\n",
       "      <td>0.0</td>\n",
       "    </tr>\n",
       "    <tr>\n",
       "      <th>156</th>\n",
       "      <td>Individual</td>\n",
       "      <td>Jenny Brugger</td>\n",
       "      <td>NaN</td>\n",
       "      <td>1010 N. Sunnyvale Ln. Unit B</td>\n",
       "      <td>Madison</td>\n",
       "      <td>WI</td>\n",
       "      <td>jennybrugger1970@gmail.com</td>\n",
       "      <td>0.0</td>\n",
       "      <td>0.0</td>\n",
       "      <td>0.0</td>\n",
       "    </tr>\n",
       "    <tr>\n",
       "      <th>279</th>\n",
       "      <td>Individual</td>\n",
       "      <td>John Bruner</td>\n",
       "      <td>NaN</td>\n",
       "      <td>6226 Adobe Way</td>\n",
       "      <td>Madison</td>\n",
       "      <td>WI</td>\n",
       "      <td>Jbruner88@gmail.com</td>\n",
       "      <td>0.0</td>\n",
       "      <td>0.0</td>\n",
       "      <td>0.0</td>\n",
       "    </tr>\n",
       "    <tr>\n",
       "      <th>5949</th>\n",
       "      <td>Individual</td>\n",
       "      <td>Tia Bunz</td>\n",
       "      <td>NaN</td>\n",
       "      <td>NaN</td>\n",
       "      <td>NaN</td>\n",
       "      <td>NaN</td>\n",
       "      <td>Tiabunz@gmail.com</td>\n",
       "      <td>0.0</td>\n",
       "      <td>0.0</td>\n",
       "      <td>0.0</td>\n",
       "    </tr>\n",
       "    <tr>\n",
       "      <th>5950</th>\n",
       "      <td>Individual</td>\n",
       "      <td>Kaleem Caire</td>\n",
       "      <td>Pierce Family Foundation</td>\n",
       "      <td>NaN</td>\n",
       "      <td>NaN</td>\n",
       "      <td>NaN</td>\n",
       "      <td>kcaire@onecityearlylearning.org</td>\n",
       "      <td>0.0</td>\n",
       "      <td>0.0</td>\n",
       "      <td>0.0</td>\n",
       "    </tr>\n",
       "    <tr>\n",
       "      <th>254</th>\n",
       "      <td>Individual</td>\n",
       "      <td>JODI CARLSON</td>\n",
       "      <td>NaN</td>\n",
       "      <td>942 MOHICAN PASS</td>\n",
       "      <td>MADISON</td>\n",
       "      <td>WI</td>\n",
       "      <td>jcsquared09@gmail.com</td>\n",
       "      <td>0.0</td>\n",
       "      <td>0.0</td>\n",
       "      <td>0.0</td>\n",
       "    </tr>\n",
       "    <tr>\n",
       "      <th>5954</th>\n",
       "      <td>Individual</td>\n",
       "      <td>Lindsey Christensen</td>\n",
       "      <td>1901 Inc.</td>\n",
       "      <td>NaN</td>\n",
       "      <td>NaN</td>\n",
       "      <td>NaN</td>\n",
       "      <td>Linzchristensen11@gmail.com</td>\n",
       "      <td>0.0</td>\n",
       "      <td>0.0</td>\n",
       "      <td>0.0</td>\n",
       "    </tr>\n",
       "  </tbody>\n",
       "</table>\n",
       "</div>"
      ],
      "text/plain": [
       "           Account Type           Full Name (F)  \\\n",
       "Account ID                                        \n",
       "6               Company                     NaN   \n",
       "262          Individual  Carly Barber-Callaghan   \n",
       "151          Individual                Amy Bass   \n",
       "5944         Individual              Mitch Brey   \n",
       "156          Individual           Jenny Brugger   \n",
       "279          Individual             John Bruner   \n",
       "5949         Individual                Tia Bunz   \n",
       "5950         Individual            Kaleem Caire   \n",
       "254          Individual            JODI CARLSON   \n",
       "5954         Individual     Lindsey Christensen   \n",
       "\n",
       "                              Company Name       Full Street Address (F)  \\\n",
       "Account ID                                                                 \n",
       "6                          Miller and Sons                           NaN   \n",
       "262                                    NaN            5901 Malabar Lane    \n",
       "151                                    NaN             6125 Roseberg Rd    \n",
       "5944        The Dawe Charitable Foundation                           NaN   \n",
       "156                                    NaN  1010 N. Sunnyvale Ln. Unit B   \n",
       "279                                    NaN               6226 Adobe Way    \n",
       "5949                                   NaN                           NaN   \n",
       "5950              Pierce Family Foundation                           NaN   \n",
       "254                                    NaN             942 MOHICAN PASS    \n",
       "5954                             1901 Inc.                           NaN   \n",
       "\n",
       "               City State/Province                          Email 1  \\\n",
       "Account ID                                                            \n",
       "6               NaN            NaN                              NaN   \n",
       "262         Madison             WI           carlymmccabe@gmail.com   \n",
       "151         Madison             WI                amyg123@gmail.com   \n",
       "5944            NaN            NaN              mitchbrey@gmail.com   \n",
       "156         Madison             WI       jennybrugger1970@gmail.com   \n",
       "279         Madison             WI              Jbruner88@gmail.com   \n",
       "5949            NaN            NaN                Tiabunz@gmail.com   \n",
       "5950            NaN            NaN  kcaire@onecityearlylearning.org   \n",
       "254         MADISON             WI            jcsquared09@gmail.com   \n",
       "5954            NaN            NaN      Linzchristensen11@gmail.com   \n",
       "\n",
       "            All Donation Amount  All Order Amount  All Registration Amount  \n",
       "Account ID                                                                  \n",
       "6                           0.0               0.0                      0.0  \n",
       "262                         0.0               0.0                      0.0  \n",
       "151                         0.0               0.0                      0.0  \n",
       "5944                        0.0               0.0                      0.0  \n",
       "156                         0.0               0.0                      0.0  \n",
       "279                         0.0               0.0                      0.0  \n",
       "5949                        0.0               0.0                      0.0  \n",
       "5950                        0.0               0.0                      0.0  \n",
       "254                         0.0               0.0                      0.0  \n",
       "5954                        0.0               0.0                      0.0  "
      ]
     },
     "execution_count": 10,
     "metadata": {},
     "output_type": "execute_result"
    }
   ],
   "source": [
    "no_tranaction.head(10)"
   ]
  },
  {
   "cell_type": "code",
   "execution_count": 11,
   "metadata": {},
   "outputs": [
    {
     "data": {
      "text/plain": [
       "Account Type                       Company\n",
       "Full Name (F)                          NaN\n",
       "Company Name               Miller and Sons\n",
       "Full Street Address (F)                NaN\n",
       "City                                   NaN\n",
       "State/Province                         NaN\n",
       "Email 1                                NaN\n",
       "All Donation Amount                    0.0\n",
       "All Order Amount                       0.0\n",
       "All Registration Amount                0.0\n",
       "Name: 6, dtype: object"
      ]
     },
     "execution_count": 11,
     "metadata": {},
     "output_type": "execute_result"
    }
   ],
   "source": [
    "no_tranaction.loc[6]"
   ]
  },
  {
   "cell_type": "code",
   "execution_count": 16,
   "metadata": {},
   "outputs": [
    {
     "data": {
      "text/plain": [
       "Index([45], dtype='int64', name='Account ID')"
      ]
     },
     "execution_count": 16,
     "metadata": {},
     "output_type": "execute_result"
    }
   ],
   "source": [
    "no_tranaction[no_tranaction[\"Full Name (F)\"] == \"Rebecca Schwartz\"].index"
   ]
  },
  {
   "cell_type": "code",
   "execution_count": 19,
   "metadata": {},
   "outputs": [
    {
     "data": {
      "text/plain": [
       "Account Type                        Individual\n",
       "Full Name (F)                 Rebecca Schwartz\n",
       "Company Name                               NaN\n",
       "Full Street Address (F)    2019 Coolidge Ct   \n",
       "City                                 Middleton\n",
       "State/Province                              WI\n",
       "Email 1                                    NaN\n",
       "All Donation Amount                        0.0\n",
       "All Order Amount                           0.0\n",
       "All Registration Amount                    0.0\n",
       "Name: 45, dtype: object"
      ]
     },
     "execution_count": 19,
     "metadata": {},
     "output_type": "execute_result"
    }
   ],
   "source": [
    "no_tranaction.loc[45]"
   ]
  },
  {
   "cell_type": "code",
   "execution_count": 20,
   "metadata": {},
   "outputs": [
    {
     "data": {
      "text/plain": [
       "Index([], dtype='int64', name='Account ID')"
      ]
     },
     "execution_count": 20,
     "metadata": {},
     "output_type": "execute_result"
    }
   ],
   "source": [
    "no_tranaction[no_tranaction[\"Full Name (F)\"] == \"Ann Nymann\"].index"
   ]
  }
 ],
 "metadata": {
  "kernelspec": {
   "display_name": "myenv",
   "language": "python",
   "name": "python3"
  },
  "language_info": {
   "codemirror_mode": {
    "name": "ipython",
    "version": 3
   },
   "file_extension": ".py",
   "mimetype": "text/x-python",
   "name": "python",
   "nbconvert_exporter": "python",
   "pygments_lexer": "ipython3",
   "version": "3.11.9"
  }
 },
 "nbformat": 4,
 "nbformat_minor": 2
}
